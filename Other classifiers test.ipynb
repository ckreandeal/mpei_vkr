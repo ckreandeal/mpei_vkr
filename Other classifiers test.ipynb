{
 "cells": [
  {
   "cell_type": "code",
   "execution_count": 70,
   "metadata": {},
   "outputs": [],
   "source": [
    "import numpy as np\n",
    "from sklearn.datasets import fetch_20newsgroups\n",
    "from sklearn.metrics import confusion_matrix, classification_report, accuracy_score, precision_score, recall_score\n",
    "from sklearn.feature_extraction.text import CountVectorizer, TfidfTransformer\n",
    "from sklearn.pipeline import Pipeline\n",
    "from sklearn.neighbors import KNeighborsClassifier\n",
    "from sklearn.tree import DecisionTreeClassifier\n",
    "from sklearn.svm import SVC\n",
    "import math\n",
    "from datetime import datetime\n",
    "import matplotlib.pyplot as plt\n",
    "from random import randint\n",
    "from sklearn.model_selection import GridSearchCV, RepeatedStratifiedKFold"
   ]
  },
  {
   "cell_type": "markdown",
   "metadata": {},
   "source": [
    "#  К-ближайших соседей, методом опорных векторов, Деревьями решений"
   ]
  },
  {
   "cell_type": "markdown",
   "metadata": {},
   "source": [
    "## Flow\n",
    "\n",
    "1. slpit to test and train sets\n",
    "2. Vectorize with CountVectozier\n",
    "3. TF IDFTransformer\n",
    "4. Classification\n",
    "\n",
    "All this using pipline"
   ]
  },
  {
   "cell_type": "code",
   "execution_count": 3,
   "metadata": {},
   "outputs": [],
   "source": [
    "categories = ['sci.space', 'comp.graphics', 'talk.politics.misc', 'rec.sport.hockey', 'comp.sys.mac.hardware', 'sci.crypt', 'sci.electronics', 'sci.med','soc.religion.christian','comp.os.ms-windows.misc', 'misc.forsale',] \n",
    "remove = ('headers', 'footers', 'quotes')\n",
    "twenty_train = fetch_20newsgroups(subset='train', shuffle=True, random_state=42, categories = categories, remove = remove )\n",
    "twenty_test = fetch_20newsgroups(subset='test', shuffle=True, random_state=42, categories = categories, remove = remove )\n"
   ]
  },
  {
   "cell_type": "code",
   "execution_count": 4,
   "metadata": {},
   "outputs": [
    {
     "data": {
      "text/plain": [
       "4244"
      ]
     },
     "execution_count": 4,
     "metadata": {},
     "output_type": "execute_result"
    }
   ],
   "source": [
    "len(twenty_test.filenames)"
   ]
  },
  {
   "cell_type": "code",
   "execution_count": 5,
   "metadata": {},
   "outputs": [
    {
     "name": "stdout",
     "output_type": "stream",
     "text": [
      "comp.sys.mac.hardware\n"
     ]
    }
   ],
   "source": [
    "print (twenty_train.target_names[2])"
   ]
  },
  {
   "cell_type": "code",
   "execution_count": 6,
   "metadata": {},
   "outputs": [],
   "source": [
    "vect = CountVectorizer(max_features = 10000, stop_words = 'english')"
   ]
  },
  {
   "cell_type": "code",
   "execution_count": 7,
   "metadata": {},
   "outputs": [],
   "source": [
    "train_data = vect.fit_transform(twenty_train.data)\n",
    "test_data = vect.transform(twenty_test.data)\n",
    "\n"
   ]
  },
  {
   "cell_type": "code",
   "execution_count": 8,
   "metadata": {},
   "outputs": [
    {
     "name": "stdout",
     "output_type": "stream",
     "text": [
      "[('ax', 62386), ('max', 4532), ('like', 2180), ('don', 2111), ('just', 1996), ('people', 1996), ('use', 1985), ('know', 1950), ('new', 1720), ('think', 1695)]\n"
     ]
    }
   ],
   "source": [
    "x = list(zip(vect.get_feature_names(), np.ravel(train_data.sum(axis=0))))\n",
    "def SortbyTF(inputStr):\n",
    "    return inputStr[1]\n",
    "x.sort(key=SortbyTF, reverse = True)\n",
    "print (x[:10])\n"
   ]
  },
  {
   "cell_type": "code",
   "execution_count": 9,
   "metadata": {},
   "outputs": [],
   "source": [
    "tfidf = TfidfTransformer(use_idf = True).fit(train_data)\n",
    "train_data_tfidf = tfidf.transform(train_data)\n"
   ]
  },
  {
   "cell_type": "code",
   "execution_count": 10,
   "metadata": {},
   "outputs": [],
   "source": [
    "text_clf = Pipeline([('vect', CountVectorizer(max_features= 1000, stop_words = 'english')),\n",
    "                    ('tfidf', TfidfTransformer(use_idf = True)),\n",
    "                    ('clf', KNeighborsClassifier (n_neighbors=1)),])   \n"
   ]
  },
  {
   "cell_type": "code",
   "execution_count": 11,
   "metadata": {},
   "outputs": [],
   "source": [
    "text_clf = text_clf.fit(twenty_train.data, twenty_train.target)"
   ]
  },
  {
   "cell_type": "code",
   "execution_count": 12,
   "metadata": {},
   "outputs": [],
   "source": [
    "prediction = text_clf.predict(twenty_test.data)"
   ]
  },
  {
   "cell_type": "code",
   "execution_count": 13,
   "metadata": {},
   "outputs": [
    {
     "name": "stdout",
     "output_type": "stream",
     "text": [
      "              precision    recall  f1-score   support\n",
      "\n",
      "           0       0.59      0.16      0.25       389\n",
      "           1       0.58      0.23      0.33       394\n",
      "           2       0.47      0.15      0.23       385\n",
      "           3       0.60      0.28      0.38       390\n",
      "           4       0.67      0.30      0.42       399\n",
      "           5       0.11      0.87      0.20       396\n",
      "           6       0.35      0.06      0.10       393\n",
      "           7       0.62      0.11      0.19       396\n",
      "           8       0.53      0.15      0.23       394\n",
      "           9       0.75      0.28      0.41       398\n",
      "          10       0.58      0.12      0.19       310\n",
      "\n",
      "    accuracy                           0.25      4244\n",
      "   macro avg       0.53      0.25      0.27      4244\n",
      "weighted avg       0.53      0.25      0.27      4244\n",
      "\n"
     ]
    }
   ],
   "source": [
    "print(classification_report(twenty_test.target, prediction))"
   ]
  },
  {
   "cell_type": "markdown",
   "metadata": {},
   "source": [
    "# TRUE TESTING"
   ]
  },
  {
   "cell_type": "code",
   "execution_count": 46,
   "metadata": {},
   "outputs": [],
   "source": [
    "def draw_chart(avg_prediction_results, prof_lenghts): \n",
    "    profiles_lengths = prof_lenghts\n",
    "    x = []\n",
    "    y = []\n",
    "    legend = []\n",
    "    plt.figure(figsize=(10,5))\n",
    "    for func_name, func_data in avg_prediction_results.items():\n",
    "        y_set = []\n",
    "        for length, data in func_data.items():\n",
    "            y_set.append(data[0])\n",
    "        y.append(y_set)\n",
    "        x.append(profiles_lengths)\n",
    "        legend.append(func_name)\n",
    "    for i in range(len(x)):\n",
    "        plt.plot(x[i],y[i])\n",
    "    plt.legend(legend)\n",
    "\n",
    "    plt.show()"
   ]
  },
  {
   "cell_type": "code",
   "execution_count": 22,
   "metadata": {},
   "outputs": [],
   "source": [
    "def pipline_calculation(cls_set, profiles_lengths):\n",
    "    categories = ['sci.space', 'comp.graphics', 'talk.politics.misc', 'rec.sport.hockey', \n",
    "                  'comp.sys.mac.hardware', 'sci.crypt', 'sci.electronics', 'sci.med',\n",
    "                  'soc.religion.christian','comp.os.ms-windows.misc', 'misc.forsale',] \n",
    "    categories = categories[:cls_set]\n",
    "    remove = ('headers', 'footers', 'quotes')\n",
    "    twenty_train = fetch_20newsgroups(subset='train', shuffle=True, random_state=42, \n",
    "                                      categories = categories, remove = remove )\n",
    "    twenty_test = fetch_20newsgroups(subset='test', shuffle=True, random_state=42,\n",
    "                                     categories = categories, remove = remove )\n",
    "\n",
    "\n",
    "    prediction_results = {}\n",
    "\n",
    "    for classifier in classifiers:\n",
    "        prediction_results[classifier] = {}\n",
    "        for length in profiles_lengths:\n",
    "            time_start = datetime.now()\n",
    "            text_clf = Pipeline([('vect', CountVectorizer(max_features= length, stop_words = 'english')),\n",
    "                                ('tfidf', TfidfTransformer(use_idf = False)),\n",
    "                                ('clf', classifier),])\n",
    "            text_clf = text_clf.fit(twenty_train.data, twenty_train.target)\n",
    "            prediction = text_clf.predict(twenty_test.data)\n",
    "            time_finish = datetime.now()\n",
    "            proc_time = time_finish - time_start\n",
    "            precision = precision_score(twenty_test.target, prediction, average='macro')\n",
    "            accuracy = accuracy_score(twenty_test.target, prediction)\n",
    "            recall = recall_score(twenty_test.target, prediction, average='macro')\n",
    "            prediction_results[classifier][length] = [precision, accuracy, recall, proc_time]\n",
    "            print(f'classifier: {classifier}; length:{length}; precision: {precision}; accuracy: {accuracy}; recall: {recall}; time: {proc_time};')\n",
    "    \n",
    "    return prediction_results\n",
    "\n",
    "\n",
    "\n",
    "\n",
    "\n"
   ]
  },
  {
   "cell_type": "code",
   "execution_count": 16,
   "metadata": {},
   "outputs": [],
   "source": [
    "classifiers = [\n",
    "    KNeighborsClassifier(1),\n",
    "    KNeighborsClassifier(),\n",
    "    SVC(),\n",
    "    DecisionTreeClassifier()]"
   ]
  },
  {
   "cell_type": "code",
   "execution_count": 17,
   "metadata": {},
   "outputs": [],
   "source": [
    "profiles_lengths = [10, 20, 50, 100, 150, 200, 300, 500, 750, 1000, 1500, 2000, 2500, 3000, 4000, 5000, 6000]"
   ]
  },
  {
   "cell_type": "code",
   "execution_count": 18,
   "metadata": {},
   "outputs": [],
   "source": [
    "classes_sets = [3,5,7,9,11]"
   ]
  },
  {
   "cell_type": "code",
   "execution_count": 23,
   "metadata": {},
   "outputs": [
    {
     "name": "stdout",
     "output_type": "stream",
     "text": [
      "***************CALCULATION FOR 3 CLASSES STARTED**********************\n",
      "classifier: KNeighborsClassifier(n_neighbors=1); length:10; precision: 0.48405123504755676; accuracy: 0.4794144556267155; recall: 0.4734682930189962; time: 0:00:00.440329;\n",
      "classifier: KNeighborsClassifier(n_neighbors=1); length:20; precision: 0.5189439807874462; accuracy: 0.515096065873742; recall: 0.5125875893046441; time: 0:00:00.453861;\n",
      "classifier: KNeighborsClassifier(n_neighbors=1); length:50; precision: 0.5505760761560329; accuracy: 0.5535224153705398; recall: 0.5509476461542929; time: 0:00:00.456464;\n",
      "classifier: KNeighborsClassifier(n_neighbors=1); length:100; precision: 0.5881607601380626; accuracy: 0.5892040256175664; recall: 0.5874682416640463; time: 0:00:00.459555;\n",
      "classifier: KNeighborsClassifier(n_neighbors=1); length:150; precision: 0.5964777212943831; accuracy: 0.5901189387008234; recall: 0.5881058849264663; time: 0:00:00.462285;\n",
      "classifier: KNeighborsClassifier(n_neighbors=1); length:200; precision: 0.5753310006154698; accuracy: 0.5535224153705398; recall: 0.5473649508641172; time: 0:00:00.470030;\n",
      "classifier: KNeighborsClassifier(n_neighbors=1); length:300; precision: 0.6063592700681374; accuracy: 0.5361390667886551; recall: 0.5256011019705848; time: 0:00:00.532403;\n",
      "classifier: KNeighborsClassifier(n_neighbors=1); length:500; precision: 0.5991135016684098; accuracy: 0.46660567246111617; recall: 0.4514013797643818; time: 0:00:00.595993;\n",
      "classifier: KNeighborsClassifier(n_neighbors=1); length:750; precision: 0.6260377244395725; accuracy: 0.44190301921317476; recall: 0.4266042774183165; time: 0:00:00.499226;\n",
      "classifier: KNeighborsClassifier(n_neighbors=1); length:1000; precision: 0.6695025001559158; accuracy: 0.43000914913083255; recall: 0.4129528969874428; time: 0:00:00.535424;\n",
      "classifier: KNeighborsClassifier(n_neighbors=1); length:1500; precision: 0.7065537782001196; accuracy: 0.4162854528819762; recall: 0.39733672668881664; time: 0:00:00.533430;\n",
      "classifier: KNeighborsClassifier(n_neighbors=1); length:2000; precision: 0.7370907578954684; accuracy: 0.41354071363220496; recall: 0.3936850530015355; time: 0:00:00.498592;\n",
      "classifier: KNeighborsClassifier(n_neighbors=1); length:2500; precision: 0.7428451178451178; accuracy: 0.40988106129917656; recall: 0.39007171311834127; time: 0:00:00.545015;\n",
      "classifier: KNeighborsClassifier(n_neighbors=1); length:3000; precision: 0.7381181043846109; accuracy: 0.40530649588289114; recall: 0.3851538592894019; time: 0:00:00.497499;\n",
      "classifier: KNeighborsClassifier(n_neighbors=1); length:4000; precision: 0.7446039941199669; accuracy: 0.40347666971637697; recall: 0.3823264606098415; time: 0:00:00.505738;\n",
      "classifier: KNeighborsClassifier(n_neighbors=1); length:5000; precision: 0.7525480820743597; accuracy: 0.40164684354986274; recall: 0.38064528757298616; time: 0:00:00.520226;\n",
      "classifier: KNeighborsClassifier(n_neighbors=1); length:6000; precision: 0.7638212825187476; accuracy: 0.3989021043000915; recall: 0.37788884571892645; time: 0:00:00.500120;\n",
      "classifier: KNeighborsClassifier(); length:10; precision: 0.5554375890829956; accuracy: 0.5123513266239708; recall: 0.501368174439575; time: 0:00:00.452004;\n",
      "classifier: KNeighborsClassifier(); length:20; precision: 0.567480073124291; accuracy: 0.5443732845379688; recall: 0.5395924493631075; time: 0:00:00.460169;\n",
      "classifier: KNeighborsClassifier(); length:50; precision: 0.6093108550990741; accuracy: 0.6084172003659652; recall: 0.602918771202333; time: 0:00:00.483424;\n",
      "classifier: KNeighborsClassifier(); length:100; precision: 0.6344230607150235; accuracy: 0.6358645928636779; recall: 0.6272846322838261; time: 0:00:00.507630;\n",
      "classifier: KNeighborsClassifier(); length:150; precision: 0.5867057975491711; accuracy: 0.5773101555352241; recall: 0.5695590728551346; time: 0:00:00.476229;\n",
      "classifier: KNeighborsClassifier(); length:200; precision: 0.5513221130261924; accuracy: 0.5480329368709973; recall: 0.5390593962089102; time: 0:00:00.473690;\n",
      "classifier: KNeighborsClassifier(); length:300; precision: 0.4802937585290527; accuracy: 0.4830741079597438; recall: 0.47150274545526233; time: 0:00:00.476956;\n",
      "classifier: KNeighborsClassifier(); length:500; precision: 0.4498366196014249; accuracy: 0.4537968892955169; recall: 0.4489079145414347; time: 0:00:00.490502;\n",
      "classifier: KNeighborsClassifier(); length:750; precision: 0.40544911552155755; accuracy: 0.4080512351326624; recall: 0.4060177477655335; time: 0:00:00.491189;\n",
      "classifier: KNeighborsClassifier(); length:1000; precision: 0.4014468240273454; accuracy: 0.40164684354986274; recall: 0.3983386252785059; time: 0:00:00.495418;\n",
      "classifier: KNeighborsClassifier(); length:1500; precision: 0.3731276746817691; accuracy: 0.3806038426349497; recall: 0.3725917089257569; time: 0:00:00.487137;\n",
      "classifier: KNeighborsClassifier(); length:2000; precision: 0.3778339958501203; accuracy: 0.38334858188472093; recall: 0.3738521782847419; time: 0:00:00.498039;\n",
      "classifier: KNeighborsClassifier(); length:2500; precision: 0.3593818025213374; accuracy: 0.36230558096980786; recall: 0.35284417322670025; time: 0:00:00.498392;\n",
      "classifier: KNeighborsClassifier(); length:3000; precision: 0.35216950656162416; accuracy: 0.35681610247026535; recall: 0.3481938983303889; time: 0:00:00.506166;\n",
      "classifier: KNeighborsClassifier(); length:4000; precision: 0.34587698935525024; accuracy: 0.3513266239707228; recall: 0.34275801898421315; time: 0:00:00.508111;\n",
      "classifier: KNeighborsClassifier(); length:5000; precision: 0.37475059869044564; accuracy: 0.3888380603842635; recall: 0.3747366620601557; time: 0:00:00.504532;\n",
      "classifier: KNeighborsClassifier(); length:6000; precision: 0.3887077797116409; accuracy: 0.3970722781335773; recall: 0.3865325432528646; time: 0:00:00.502509;\n",
      "classifier: SVC(); length:10; precision: 0.5655418848616194; accuracy: 0.5333943275388838; recall: 0.5305537677204394; time: 0:00:00.499991;\n",
      "classifier: SVC(); length:20; precision: 0.5968827967352058; accuracy: 0.5837145471180238; recall: 0.5802618793750804; time: 0:00:00.624125;\n",
      "classifier: SVC(); length:50; precision: 0.6898069197097799; accuracy: 0.687099725526075; recall: 0.6835698958406559; time: 0:00:00.651142;\n",
      "classifier: SVC(); length:100; precision: 0.7299844943016053; accuracy: 0.7328453796889296; recall: 0.7273326617901915; time: 0:00:00.783282;\n",
      "classifier: SVC(); length:150; precision: 0.7512265185909454; accuracy: 0.7548032936870998; recall: 0.7507479090747985; time: 0:00:00.824585;\n",
      "classifier: SVC(); length:200; precision: 0.7647559424642588; accuracy: 0.7666971637694419; recall: 0.7617570913678925; time: 0:00:00.766628;\n",
      "classifier: SVC(); length:300; precision: 0.7691711045316879; accuracy: 0.7703568161024703; recall: 0.7646165658439911; time: 0:00:00.877300;\n",
      "classifier: SVC(); length:500; precision: 0.8018330196817938; accuracy: 0.8042086001829826; recall: 0.8031682917140753; time: 0:00:01.033210;\n",
      "classifier: SVC(); length:750; precision: 0.8124896569342548; accuracy: 0.8133577310155535; recall: 0.8125128860934584; time: 0:00:01.271113;\n",
      "classifier: SVC(); length:1000; precision: 0.8239938684503901; accuracy: 0.8252516010978957; recall: 0.8242641754745317; time: 0:00:01.382059;\n",
      "classifier: SVC(); length:1500; precision: 0.8496461004121736; accuracy: 0.8435498627630376; recall: 0.8402894174145757; time: 0:00:01.573246;\n",
      "classifier: SVC(); length:2000; precision: 0.8518574874326549; accuracy: 0.8472095150960659; recall: 0.843946254659655; time: 0:00:01.701866;\n",
      "classifier: SVC(); length:2500; precision: 0.8551468578197613; accuracy: 0.8499542543458372; recall: 0.846265954937575; time: 0:00:01.758849;\n",
      "classifier: SVC(); length:3000; precision: 0.8627638458169499; accuracy: 0.8581884720951509; recall: 0.8548297716711223; time: 0:00:01.803354;\n",
      "classifier: SVC(); length:4000; precision: 0.8656292995152478; accuracy: 0.8609332113449222; recall: 0.857171220629985; time: 0:00:01.994639;\n",
      "classifier: SVC(); length:5000; precision: 0.8693334102283384; accuracy: 0.8645928636779506; recall: 0.8607845605131791; time: 0:00:02.058855;\n",
      "classifier: SVC(); length:6000; precision: 0.8678043582405707; accuracy: 0.8627630375114365; recall: 0.8590925131358524; time: 0:00:02.130744;\n",
      "classifier: DecisionTreeClassifier(); length:10; precision: 0.5187941371868385; accuracy: 0.5013723696248856; recall: 0.49202412728506734; time: 0:00:00.437953;\n"
     ]
    },
    {
     "name": "stdout",
     "output_type": "stream",
     "text": [
      "classifier: DecisionTreeClassifier(); length:20; precision: 0.5494833020046896; accuracy: 0.5388838060384263; recall: 0.5331852178004114; time: 0:00:00.411398;\n",
      "classifier: DecisionTreeClassifier(); length:50; precision: 0.6489607965611215; accuracy: 0.6450137236962489; recall: 0.6381034504773415; time: 0:00:00.443619;\n",
      "classifier: DecisionTreeClassifier(); length:100; precision: 0.6561294715517044; accuracy: 0.6532479414455626; recall: 0.6471248734893261; time: 0:00:00.413397;\n",
      "classifier: DecisionTreeClassifier(); length:150; precision: 0.701577230121062; accuracy: 0.7017383348581885; recall: 0.6961231643236321; time: 0:00:00.503058;\n",
      "classifier: DecisionTreeClassifier(); length:200; precision: 0.6898593616609664; accuracy: 0.6898444647758463; recall: 0.6812929352286398; time: 0:00:00.526716;\n",
      "classifier: DecisionTreeClassifier(); length:300; precision: 0.6855368095034334; accuracy: 0.6861848124428179; recall: 0.6826351094709331; time: 0:00:00.535884;\n",
      "classifier: DecisionTreeClassifier(); length:500; precision: 0.693148832750852; accuracy: 0.6925892040256175; recall: 0.6950096458907832; time: 0:00:00.549842;\n",
      "classifier: DecisionTreeClassifier(); length:750; precision: 0.7206256992071599; accuracy: 0.717291857273559; recall: 0.7203413588772293; time: 0:00:00.517753;\n",
      "classifier: DecisionTreeClassifier(); length:1000; precision: 0.6973475010198561; accuracy: 0.6907593778591034; recall: 0.6925102453826497; time: 0:00:00.544510;\n",
      "classifier: DecisionTreeClassifier(); length:1500; precision: 0.7054914651350582; accuracy: 0.7044830741079597; recall: 0.699609954946555; time: 0:00:00.569902;\n",
      "classifier: DecisionTreeClassifier(); length:2000; precision: 0.7095452748121787; accuracy: 0.707227813357731; recall: 0.703523496783791; time: 0:00:00.570354;\n",
      "classifier: DecisionTreeClassifier(); length:2500; precision: 0.7174749202924081; accuracy: 0.7154620311070449; recall: 0.7132009161386298; time: 0:00:00.566268;\n",
      "classifier: DecisionTreeClassifier(); length:3000; precision: 0.6992380627860175; accuracy: 0.6980786825251601; recall: 0.6974653385659257; time: 0:00:00.603558;\n",
      "classifier: DecisionTreeClassifier(); length:4000; precision: 0.7068420560823175; accuracy: 0.7044830741079597; recall: 0.7007018088869038; time: 0:00:00.653892;\n",
      "classifier: DecisionTreeClassifier(); length:5000; precision: 0.6972419682374918; accuracy: 0.6989935956084172; recall: 0.69602978530965; time: 0:00:00.595845;\n",
      "classifier: DecisionTreeClassifier(); length:6000; precision: 0.7069509770873567; accuracy: 0.7053979871912168; recall: 0.7015478325755672; time: 0:00:00.608039;\n",
      "***************CALCULATION FOR 3 CLASSES DONE**********************\n",
      "***************LOOP OF3 CLASSES DONE for 0:00:49.951281 ***************\n",
      "None\n",
      "***************CALCULATION FOR 5 CLASSES STARTED**********************\n",
      "classifier: KNeighborsClassifier(n_neighbors=1); length:10; precision: 0.262567858476085; accuracy: 0.26212040490143845; recall: 0.259928581870173; time: 0:00:00.773966;\n",
      "classifier: KNeighborsClassifier(n_neighbors=1); length:20; precision: 0.336735256196996; accuracy: 0.3292488012786361; recall: 0.32671064843147035; time: 0:00:00.729074;\n",
      "classifier: KNeighborsClassifier(n_neighbors=1); length:50; precision: 0.4695186841521606; accuracy: 0.45764517847629194; recall: 0.45521910962988726; time: 0:00:00.739350;\n",
      "classifier: KNeighborsClassifier(n_neighbors=1); length:100; precision: 0.5221801299968692; accuracy: 0.5173148641449121; recall: 0.5137396369109406; time: 0:00:00.881486;\n",
      "classifier: KNeighborsClassifier(n_neighbors=1); length:150; precision: 0.5097223272544859; accuracy: 0.5071923281832712; recall: 0.5022863885359683; time: 0:00:00.833647;\n",
      "classifier: KNeighborsClassifier(n_neighbors=1); length:200; precision: 0.527158689534245; accuracy: 0.51092168353756; recall: 0.5057676725710744; time: 0:00:00.765853;\n",
      "classifier: KNeighborsClassifier(n_neighbors=1); length:300; precision: 0.5501944375164203; accuracy: 0.48428343100692595; recall: 0.4768984468523024; time: 0:00:00.768012;\n",
      "classifier: KNeighborsClassifier(n_neighbors=1); length:500; precision: 0.582426738015376; accuracy: 0.4070324986680874; recall: 0.3981269962525623; time: 0:00:00.780955;\n",
      "classifier: KNeighborsClassifier(n_neighbors=1); length:750; precision: 0.6177836512653916; accuracy: 0.3564198188598828; recall: 0.3479028265198895; time: 0:00:00.818567;\n",
      "classifier: KNeighborsClassifier(n_neighbors=1); length:1000; precision: 0.6476724034016581; accuracy: 0.33724027703782633; recall: 0.32832484796075867; time: 0:00:00.806926;\n",
      "classifier: KNeighborsClassifier(n_neighbors=1); length:1500; precision: 0.7052748159224684; accuracy: 0.31326584976025573; recall: 0.30419021032111176; time: 0:00:00.824515;\n",
      "classifier: KNeighborsClassifier(n_neighbors=1); length:2000; precision: 0.717565190025083; accuracy: 0.28875865743207246; recall: 0.27968277445812706; time: 0:00:00.827915;\n",
      "classifier: KNeighborsClassifier(n_neighbors=1); length:2500; precision: 0.7246802374551066; accuracy: 0.28023441662226956; recall: 0.2712812417561078; time: 0:00:00.972399;\n",
      "classifier: KNeighborsClassifier(n_neighbors=1); length:3000; precision: 0.7182064995956625; accuracy: 0.2743740010655301; recall: 0.2652069582136614; time: 0:00:00.910684;\n",
      "classifier: KNeighborsClassifier(n_neighbors=1); length:4000; precision: 0.7311656108763342; accuracy: 0.26478423015450187; recall: 0.2553285424437606; time: 0:00:00.984211;\n",
      "classifier: KNeighborsClassifier(n_neighbors=1); length:5000; precision: 0.7434074074074074; accuracy: 0.26318593500266385; recall: 0.2537807842893186; time: 0:00:01.061920;\n",
      "classifier: KNeighborsClassifier(n_neighbors=1); length:6000; precision: 0.7624989135158626; accuracy: 0.2610548748002131; recall: 0.25178111345999005; time: 0:00:01.044412;\n",
      "classifier: KNeighborsClassifier(); length:10; precision: 0.328131426592079; accuracy: 0.30207778369738947; recall: 0.3010460499762694; time: 0:00:01.052292;\n",
      "classifier: KNeighborsClassifier(); length:20; precision: 0.41519596613002624; accuracy: 0.366009589770911; recall: 0.3635877020798485; time: 0:00:01.075841;\n",
      "classifier: KNeighborsClassifier(); length:50; precision: 0.48660865914327067; accuracy: 0.4667021843367075; recall: 0.46190939393981695; time: 0:00:00.886533;\n",
      "classifier: KNeighborsClassifier(); length:100; precision: 0.5249715801439939; accuracy: 0.5199786893979755; recall: 0.5160529718309776; time: 0:00:01.080378;\n",
      "classifier: KNeighborsClassifier(); length:150; precision: 0.518231136141871; accuracy: 0.5146510388918487; recall: 0.5081701866181944; time: 0:00:00.946859;\n",
      "classifier: KNeighborsClassifier(); length:200; precision: 0.48738640866954774; accuracy: 0.49014384656366544; recall: 0.4834020254619212; time: 0:00:00.910602;\n",
      "classifier: KNeighborsClassifier(); length:300; precision: 0.4458170000542818; accuracy: 0.44539158231220033; recall: 0.43807604048714344; time: 0:00:00.958983;\n",
      "classifier: KNeighborsClassifier(); length:500; precision: 0.34729695895277735; accuracy: 0.3409696323921151; recall: 0.335638257557517; time: 0:00:00.925945;\n",
      "classifier: KNeighborsClassifier(); length:750; precision: 0.2871355136636575; accuracy: 0.2866275972296217; recall: 0.2831918890496819; time: 0:00:00.930429;\n",
      "classifier: KNeighborsClassifier(); length:1000; precision: 0.2918126130902122; accuracy: 0.2882258923814598; recall: 0.2839986659644054; time: 0:00:00.989788;\n",
      "classifier: KNeighborsClassifier(); length:1500; precision: 0.2621662855087138; accuracy: 0.25998934469898777; recall: 0.25676484349442846; time: 0:00:00.968318;\n",
      "classifier: KNeighborsClassifier(); length:2000; precision: 0.2508336092917239; accuracy: 0.24613745338305806; recall: 0.2450947390673349; time: 0:00:00.985589;\n",
      "classifier: KNeighborsClassifier(); length:2500; precision: 0.23564031315723627; accuracy: 0.23388385721896643; recall: 0.23092692204995488; time: 0:00:00.979643;\n",
      "classifier: KNeighborsClassifier(); length:3000; precision: 0.24799062082711737; accuracy: 0.24347362812999468; recall: 0.24173521570990913; time: 0:00:00.929361;\n",
      "classifier: KNeighborsClassifier(); length:4000; precision: 0.2473784538617866; accuracy: 0.24080980287693127; recall: 0.23806626599990524; time: 0:00:00.903847;\n",
      "classifier: KNeighborsClassifier(); length:5000; precision: 0.24410021913221427; accuracy: 0.2370804475226425; recall: 0.2346520608182138; time: 0:00:01.033459;\n"
     ]
    },
    {
     "name": "stdout",
     "output_type": "stream",
     "text": [
      "classifier: KNeighborsClassifier(); length:6000; precision: 0.22661109090378515; accuracy: 0.22269579115610016; recall: 0.22148700387671671; time: 0:00:01.112013;\n",
      "classifier: SVC(); length:10; precision: 0.419673006385509; accuracy: 0.337773042088439; recall: 0.3394109961584235; time: 0:00:01.117664;\n",
      "classifier: SVC(); length:20; precision: 0.49284142239320794; accuracy: 0.419286094832179; recall: 0.4178508077885888; time: 0:00:01.180077;\n",
      "classifier: SVC(); length:50; precision: 0.5557496984616012; accuracy: 0.5546084176877997; recall: 0.5527432539033631; time: 0:00:01.325038;\n",
      "classifier: SVC(); length:100; precision: 0.6333197009758849; accuracy: 0.6366542354821524; recall: 0.6352280375600419; time: 0:00:01.527888;\n",
      "classifier: SVC(); length:150; precision: 0.6642720959753681; accuracy: 0.6680873734683005; recall: 0.6662749175558998; time: 0:00:01.680548;\n",
      "classifier: SVC(); length:200; precision: 0.6889158306596792; accuracy: 0.6925945657964837; recall: 0.6902162620574874; time: 0:00:01.989879;\n",
      "classifier: SVC(); length:300; precision: 0.7205187985888463; accuracy: 0.7240277037826318; recall: 0.7205081218681627; time: 0:00:02.113995;\n",
      "classifier: SVC(); length:500; precision: 0.74090826976894; accuracy: 0.7442727757059137; recall: 0.7403370456284536; time: 0:00:02.652214;\n",
      "classifier: SVC(); length:750; precision: 0.7671592146739895; accuracy: 0.7661161427810336; recall: 0.7632630831757199; time: 0:00:02.991270;\n",
      "classifier: SVC(); length:1000; precision: 0.7962191113614885; accuracy: 0.7938199254128929; recall: 0.7914399505007176; time: 0:00:03.667666;\n",
      "classifier: SVC(); length:1500; precision: 0.8150106919430682; accuracy: 0.8114011720831114; recall: 0.8094693077024516; time: 0:00:04.147519;\n",
      "classifier: SVC(); length:2000; precision: 0.8279112633228796; accuracy: 0.8241875332978157; recall: 0.822531811683114; time: 0:00:04.512618;\n",
      "classifier: SVC(); length:2500; precision: 0.8278797902022982; accuracy: 0.8247202983484283; recall: 0.8227527924836139; time: 0:00:04.799382;\n",
      "classifier: SVC(); length:3000; precision: 0.8292585580674257; accuracy: 0.8263185935002664; recall: 0.8240072290971583; time: 0:00:05.081260;\n",
      "classifier: SVC(); length:4000; precision: 0.8369843395891972; accuracy: 0.8343100692594566; recall: 0.8326459691709788; time: 0:00:05.438403;\n",
      "classifier: SVC(); length:5000; precision: 0.837455501000939; accuracy: 0.8343100692594566; recall: 0.8327823333458204; time: 0:00:05.740063;\n",
      "classifier: SVC(); length:6000; precision: 0.840711195882581; accuracy: 0.8364411294619073; recall: 0.8345743143415767; time: 0:00:05.965383;\n",
      "classifier: DecisionTreeClassifier(); length:10; precision: 0.37480858286456453; accuracy: 0.3153969099627065; recall: 0.31309997524164457; time: 0:00:00.584390;\n",
      "classifier: DecisionTreeClassifier(); length:20; precision: 0.4265209381538062; accuracy: 0.38678742674480554; recall: 0.38344946381733847; time: 0:00:00.610110;\n",
      "classifier: DecisionTreeClassifier(); length:50; precision: 0.5035113719858926; accuracy: 0.5071923281832712; recall: 0.5019432994817083; time: 0:00:00.609565;\n",
      "classifier: DecisionTreeClassifier(); length:100; precision: 0.5842140264818205; accuracy: 0.5887053809270112; recall: 0.5831081916682075; time: 0:00:00.627687;\n",
      "classifier: DecisionTreeClassifier(); length:150; precision: 0.6062135350998921; accuracy: 0.6100159829515184; recall: 0.6064451088578796; time: 0:00:00.647776;\n",
      "classifier: DecisionTreeClassifier(); length:200; precision: 0.6050340088609953; accuracy: 0.6094832179009056; recall: 0.6052173462963444; time: 0:00:00.659182;\n",
      "classifier: DecisionTreeClassifier(); length:300; precision: 0.6309551154624922; accuracy: 0.6350559403303143; recall: 0.6295840886058277; time: 0:00:00.684519;\n",
      "classifier: DecisionTreeClassifier(); length:500; precision: 0.6426615490584319; accuracy: 0.6467767714437933; recall: 0.642680598072665; time: 0:00:00.844475;\n",
      "classifier: DecisionTreeClassifier(); length:750; precision: 0.6620025449981021; accuracy: 0.6568993074054342; recall: 0.6523774550771994; time: 0:00:00.805220;\n",
      "classifier: DecisionTreeClassifier(); length:1000; precision: 0.6601985862675238; accuracy: 0.6568993074054342; recall: 0.6523330024037967; time: 0:00:00.889302;\n",
      "classifier: DecisionTreeClassifier(); length:1500; precision: 0.6663199568803144; accuracy: 0.660628662759723; recall: 0.6560726140898543; time: 0:00:00.883683;\n",
      "classifier: DecisionTreeClassifier(); length:2000; precision: 0.670468882664452; accuracy: 0.6686201385189131; recall: 0.6633292417990119; time: 0:00:00.989241;\n",
      "classifier: DecisionTreeClassifier(); length:2500; precision: 0.6766054011946409; accuracy: 0.6680873734683005; recall: 0.6639753032822627; time: 0:00:01.083606;\n",
      "classifier: DecisionTreeClassifier(); length:3000; precision: 0.6724673920011003; accuracy: 0.6654235482152371; recall: 0.6616892860884893; time: 0:00:00.965218;\n",
      "classifier: DecisionTreeClassifier(); length:4000; precision: 0.6656028835265634; accuracy: 0.6627597229621737; recall: 0.6586334862114979; time: 0:00:01.115766;\n",
      "classifier: DecisionTreeClassifier(); length:5000; precision: 0.6631591213250212; accuracy: 0.6590303676078849; recall: 0.6545812953876271; time: 0:00:01.100935;\n",
      "classifier: DecisionTreeClassifier(); length:6000; precision: 0.6709213001722609; accuracy: 0.6627597229621737; recall: 0.6593271733919888; time: 0:00:01.168146;\n",
      "***************CALCULATION FOR 5 CLASSES DONE**********************\n",
      "***************LOOP OF5 CLASSES DONE for 0:01:43.811937 ***************\n",
      "None\n",
      "***************CALCULATION FOR 7 CLASSES STARTED**********************\n",
      "classifier: KNeighborsClassifier(n_neighbors=1); length:10; precision: 0.1944745608675427; accuracy: 0.19204801200300076; recall: 0.19135760958939113; time: 0:00:01.194490;\n",
      "classifier: KNeighborsClassifier(n_neighbors=1); length:20; precision: 0.2610554162334541; accuracy: 0.24981245311327832; recall: 0.24892772295875057; time: 0:00:01.137577;\n",
      "classifier: KNeighborsClassifier(n_neighbors=1); length:50; precision: 0.31394050693304804; accuracy: 0.30682670667666917; recall: 0.30502904351677856; time: 0:00:01.158883;\n",
      "classifier: KNeighborsClassifier(n_neighbors=1); length:100; precision: 0.3989781634271618; accuracy: 0.39497374343585895; recall: 0.3934358073064868; time: 0:00:01.196394;\n",
      "classifier: KNeighborsClassifier(n_neighbors=1); length:150; precision: 0.3982811489247093; accuracy: 0.3919729932483121; recall: 0.3893141503742522; time: 0:00:01.204479;\n",
      "classifier: KNeighborsClassifier(n_neighbors=1); length:200; precision: 0.4022800572522803; accuracy: 0.38484621155288823; recall: 0.38187736544838424; time: 0:00:01.191462;\n",
      "classifier: KNeighborsClassifier(n_neighbors=1); length:300; precision: 0.41160642981987416; accuracy: 0.3675918979744936; recall: 0.3634467436549074; time: 0:00:01.203600;\n",
      "classifier: KNeighborsClassifier(n_neighbors=1); length:500; precision: 0.47270507313982923; accuracy: 0.32633158289572395; recall: 0.32138845874625666; time: 0:00:01.233060;\n",
      "classifier: KNeighborsClassifier(n_neighbors=1); length:750; precision: 0.4964931040397274; accuracy: 0.27569392348087024; recall: 0.27083542312242803; time: 0:00:01.226825;\n",
      "classifier: KNeighborsClassifier(n_neighbors=1); length:1000; precision: 0.5556514607931531; accuracy: 0.25318829707426854; recall: 0.24911357368297501; time: 0:00:01.549769;\n",
      "classifier: KNeighborsClassifier(n_neighbors=1); length:1500; precision: 0.5804320999964553; accuracy: 0.231807951987997; recall: 0.22690561733073758; time: 0:00:01.471469;\n",
      "classifier: KNeighborsClassifier(n_neighbors=1); length:2000; precision: 0.618548601179463; accuracy: 0.21717929482370593; recall: 0.21280325669770783; time: 0:00:01.627766;\n",
      "classifier: KNeighborsClassifier(n_neighbors=1); length:2500; precision: 0.6492491081430835; accuracy: 0.20930232558139536; recall: 0.20446667098065177; time: 0:00:01.587227;\n",
      "classifier: KNeighborsClassifier(n_neighbors=1); length:3000; precision: 0.6739670285854559; accuracy: 0.20742685671417854; recall: 0.20244089927835746; time: 0:00:01.596034;\n",
      "classifier: KNeighborsClassifier(n_neighbors=1); length:4000; precision: 0.6946903480457886; accuracy: 0.20255063765941486; recall: 0.19737611495029084; time: 0:00:01.672916;\n",
      "classifier: KNeighborsClassifier(n_neighbors=1); length:5000; precision: 0.694933330475047; accuracy: 0.19879969992498125; recall: 0.19363115020524105; time: 0:00:01.492439;\n"
     ]
    },
    {
     "name": "stdout",
     "output_type": "stream",
     "text": [
      "classifier: KNeighborsClassifier(n_neighbors=1); length:6000; precision: 0.7484319450081249; accuracy: 0.1980495123780945; recall: 0.19281284665031853; time: 0:00:01.569533;\n",
      "classifier: KNeighborsClassifier(); length:10; precision: 0.2602225486356645; accuracy: 0.2108027006751688; recall: 0.2101864354884723; time: 0:00:01.212743;\n",
      "classifier: KNeighborsClassifier(); length:20; precision: 0.30092989819501126; accuracy: 0.24868717179294825; recall: 0.24573476500289135; time: 0:00:01.280771;\n",
      "classifier: KNeighborsClassifier(); length:50; precision: 0.3462150963905189; accuracy: 0.32633158289572395; recall: 0.3236432594386505; time: 0:00:01.180040;\n",
      "classifier: KNeighborsClassifier(); length:100; precision: 0.4021468895111248; accuracy: 0.39797449362340587; recall: 0.3962325043656154; time: 0:00:01.215518;\n",
      "classifier: KNeighborsClassifier(); length:150; precision: 0.40605341292333036; accuracy: 0.3983495873968492; recall: 0.3947093549897719; time: 0:00:01.255845;\n",
      "classifier: KNeighborsClassifier(); length:200; precision: 0.442982838616346; accuracy: 0.38297074268567144; recall: 0.3795520617196408; time: 0:00:01.216473;\n",
      "classifier: KNeighborsClassifier(); length:300; precision: 0.35578703972569503; accuracy: 0.34246061515378845; recall: 0.34005452688533566; time: 0:00:01.409165;\n",
      "classifier: KNeighborsClassifier(); length:500; precision: 0.293227366120596; accuracy: 0.2846961740435109; recall: 0.28324184443577927; time: 0:00:01.468527;\n",
      "classifier: KNeighborsClassifier(); length:750; precision: 0.24774561552029123; accuracy: 0.2404351087771943; recall: 0.23921462102295804; time: 0:00:01.524611;\n",
      "classifier: KNeighborsClassifier(); length:1000; precision: 0.2301724417914284; accuracy: 0.2145536384096024; recall: 0.21402542552632925; time: 0:00:01.529461;\n",
      "classifier: KNeighborsClassifier(); length:1500; precision: 0.20346628104559203; accuracy: 0.1905476369092273; recall: 0.1895512068127047; time: 0:00:01.482630;\n",
      "classifier: KNeighborsClassifier(); length:2000; precision: 0.19275736960392112; accuracy: 0.18267066766691673; recall: 0.18304598905565023; time: 0:00:01.655196;\n",
      "classifier: KNeighborsClassifier(); length:2500; precision: 0.19168211607782415; accuracy: 0.1811702925731433; recall: 0.18102570255646175; time: 0:00:01.450319;\n",
      "classifier: KNeighborsClassifier(); length:3000; precision: 0.18437239668981337; accuracy: 0.1774193548387097; recall: 0.17675117576698565; time: 0:00:01.426238;\n",
      "classifier: KNeighborsClassifier(); length:4000; precision: 0.18699742772778774; accuracy: 0.17216804201050262; recall: 0.1719802292929708; time: 0:00:01.319252;\n",
      "classifier: KNeighborsClassifier(); length:5000; precision: 0.16729210429061925; accuracy: 0.16129032258064516; recall: 0.16091031687520477; time: 0:00:01.343152;\n",
      "classifier: KNeighborsClassifier(); length:6000; precision: 0.1935189411272738; accuracy: 0.18154538634658665; recall: 0.18113455397507422; time: 0:00:01.336008;\n",
      "classifier: SVC(); length:10; precision: 0.3110011971998778; accuracy: 0.24306076519129782; recall: 0.24144368245173273; time: 0:00:01.736850;\n",
      "classifier: SVC(); length:20; precision: 0.3952238804172632; accuracy: 0.3169542385596399; recall: 0.3136688844401072; time: 0:00:01.909466;\n",
      "classifier: SVC(); length:50; precision: 0.43946827835780494; accuracy: 0.3938484621155289; recall: 0.39353563260625896; time: 0:00:02.293950;\n",
      "classifier: SVC(); length:100; precision: 0.530287101078431; accuracy: 0.5037509377344336; recall: 0.5041291822260591; time: 0:00:02.637289;\n",
      "classifier: SVC(); length:150; precision: 0.5652260956147332; accuracy: 0.5491372843210802; recall: 0.5494040465585106; time: 0:00:03.002813;\n",
      "classifier: SVC(); length:200; precision: 0.5965866950586151; accuracy: 0.5787696924231058; recall: 0.5785986647740665; time: 0:00:03.402839;\n",
      "classifier: SVC(); length:300; precision: 0.6201093208359119; accuracy: 0.605026256564141; recall: 0.6046482191208459; time: 0:00:03.862114;\n",
      "classifier: SVC(); length:500; precision: 0.6621967218006859; accuracy: 0.6504126031507877; recall: 0.6487960691430944; time: 0:00:04.685772;\n",
      "classifier: SVC(); length:750; precision: 0.684975539364921; accuracy: 0.6691672918229558; recall: 0.6691493622185131; time: 0:00:05.799563;\n",
      "classifier: SVC(); length:1000; precision: 0.7031410379031113; accuracy: 0.6890472618154538; recall: 0.688419474264814; time: 0:00:06.646681;\n",
      "classifier: SVC(); length:1500; precision: 0.7254858632818774; accuracy: 0.7108027006751688; recall: 0.70997329768622; time: 0:00:08.759420;\n",
      "classifier: SVC(); length:2000; precision: 0.7361686651388963; accuracy: 0.7231807951987997; recall: 0.7225075138794322; time: 0:00:10.089471;\n",
      "classifier: SVC(); length:2500; precision: 0.7447684636013123; accuracy: 0.7321830457614403; recall: 0.7317473328737403; time: 0:00:10.272637;\n",
      "classifier: SVC(); length:3000; precision: 0.7532688057529829; accuracy: 0.7404351087771943; recall: 0.7400291345086621; time: 0:00:10.897091;\n",
      "classifier: SVC(); length:4000; precision: 0.7590187706622941; accuracy: 0.7468117029257314; recall: 0.746430271826417; time: 0:00:12.016516;\n",
      "classifier: SVC(); length:5000; precision: 0.7617979118842303; accuracy: 0.7483120780195048; recall: 0.7481928074056416; time: 0:00:12.340691;\n",
      "classifier: SVC(); length:6000; precision: 0.764385694905909; accuracy: 0.7505626406601651; recall: 0.7501904427928344; time: 0:00:13.138024;\n",
      "classifier: DecisionTreeClassifier(); length:10; precision: 0.2617337271386388; accuracy: 0.22393098274568643; recall: 0.22158711692119232; time: 0:00:00.846330;\n",
      "classifier: DecisionTreeClassifier(); length:20; precision: 0.3085471009336317; accuracy: 0.2685671417854464; recall: 0.2653625723853961; time: 0:00:00.800751;\n",
      "classifier: DecisionTreeClassifier(); length:50; precision: 0.36111095670492555; accuracy: 0.3507126781695424; recall: 0.34957478867931563; time: 0:00:00.934030;\n",
      "classifier: DecisionTreeClassifier(); length:100; precision: 0.44469584738322704; accuracy: 0.4512378094523631; recall: 0.44789605840707836; time: 0:00:00.925094;\n",
      "classifier: DecisionTreeClassifier(); length:150; precision: 0.48738179643669394; accuracy: 0.4924981245311328; recall: 0.4891420133664761; time: 0:00:00.963540;\n",
      "classifier: DecisionTreeClassifier(); length:200; precision: 0.5031971928044825; accuracy: 0.5075018754688673; recall: 0.5037496927134677; time: 0:00:00.948247;\n",
      "classifier: DecisionTreeClassifier(); length:300; precision: 0.5255247904343332; accuracy: 0.518754688672168; recall: 0.5144784713356064; time: 0:00:00.978016;\n",
      "classifier: DecisionTreeClassifier(); length:500; precision: 0.5407367075707559; accuracy: 0.5446361590397599; recall: 0.5398405376963997; time: 0:00:01.121199;\n",
      "classifier: DecisionTreeClassifier(); length:750; precision: 0.5616065709979416; accuracy: 0.5480120030007501; recall: 0.5463581273753233; time: 0:00:01.225789;\n",
      "classifier: DecisionTreeClassifier(); length:1000; precision: 0.5671444485031615; accuracy: 0.5551387846961741; recall: 0.5526346058598375; time: 0:00:01.324288;\n",
      "classifier: DecisionTreeClassifier(); length:1500; precision: 0.5769688576447537; accuracy: 0.5708927231807952; recall: 0.5689025240484484; time: 0:00:01.377439;\n",
      "classifier: DecisionTreeClassifier(); length:2000; precision: 0.5749626144682184; accuracy: 0.5671417854463616; recall: 0.5644001383553819; time: 0:00:01.402253;\n",
      "classifier: DecisionTreeClassifier(); length:2500; precision: 0.5833107713976738; accuracy: 0.5753938484621155; recall: 0.5733636434638398; time: 0:00:01.555373;\n",
      "classifier: DecisionTreeClassifier(); length:3000; precision: 0.5720568033883416; accuracy: 0.5630157539384846; recall: 0.5603429614481553; time: 0:00:01.545947;\n",
      "classifier: DecisionTreeClassifier(); length:4000; precision: 0.5838847709406948; accuracy: 0.5708927231807952; recall: 0.5693988426610936; time: 0:00:01.627884;\n",
      "classifier: DecisionTreeClassifier(); length:5000; precision: 0.5650696963894893; accuracy: 0.5596399099774944; recall: 0.5571530738823167; time: 0:00:01.893295;\n",
      "classifier: DecisionTreeClassifier(); length:6000; precision: 0.5830183282198528; accuracy: 0.5723930982745686; recall: 0.5712129658431838; time: 0:00:01.858284;\n",
      "***************CALCULATION FOR 7 CLASSES DONE**********************\n",
      "***************LOOP OF7 CLASSES DONE for 0:03:03.985256 ***************\n",
      "None\n",
      "***************CALCULATION FOR 9 CLASSES STARTED**********************\n"
     ]
    },
    {
     "name": "stdout",
     "output_type": "stream",
     "text": [
      "classifier: KNeighborsClassifier(n_neighbors=1); length:10; precision: 0.1505198362702362; accuracy: 0.14277456647398845; recall: 0.14267557115494317; time: 0:00:01.660718;\n",
      "classifier: KNeighborsClassifier(n_neighbors=1); length:20; precision: 0.21317827410537815; accuracy: 0.20202312138728323; recall: 0.2003240031682764; time: 0:00:01.889953;\n",
      "classifier: KNeighborsClassifier(n_neighbors=1); length:50; precision: 0.24955538795425683; accuracy: 0.23554913294797689; recall: 0.23399148563722472; time: 0:00:01.768642;\n",
      "classifier: KNeighborsClassifier(n_neighbors=1); length:100; precision: 0.3060862800051132; accuracy: 0.3109826589595376; recall: 0.30874267371431957; time: 0:00:01.961159;\n",
      "classifier: KNeighborsClassifier(n_neighbors=1); length:150; precision: 0.3379351580129446; accuracy: 0.33439306358381504; recall: 0.33219618941574275; time: 0:00:01.878142;\n",
      "classifier: KNeighborsClassifier(n_neighbors=1); length:200; precision: 0.3517430079867103; accuracy: 0.3312138728323699; recall: 0.32908526003215227; time: 0:00:02.054814;\n",
      "classifier: KNeighborsClassifier(n_neighbors=1); length:300; precision: 0.38399202490400985; accuracy: 0.3263005780346821; recall: 0.3240240992370509; time: 0:00:02.150275;\n",
      "classifier: KNeighborsClassifier(n_neighbors=1); length:500; precision: 0.44646605632768577; accuracy: 0.2971098265895954; recall: 0.2939245215791704; time: 0:00:02.050287;\n",
      "classifier: KNeighborsClassifier(n_neighbors=1); length:750; precision: 0.49696515555473675; accuracy: 0.25780346820809247; recall: 0.2546371556169622; time: 0:00:01.956530;\n",
      "classifier: KNeighborsClassifier(n_neighbors=1); length:1000; precision: 0.5305929671945092; accuracy: 0.23641618497109826; recall: 0.23357453512041637; time: 0:00:01.836141;\n",
      "classifier: KNeighborsClassifier(n_neighbors=1); length:1500; precision: 0.5848061944634377; accuracy: 0.21184971098265895; recall: 0.20904879924031816; time: 0:00:01.898966;\n",
      "classifier: KNeighborsClassifier(n_neighbors=1); length:2000; precision: 0.6129901710978106; accuracy: 0.196242774566474; recall: 0.1936148025514456; time: 0:00:01.983160;\n",
      "classifier: KNeighborsClassifier(n_neighbors=1); length:2500; precision: 0.6298715960145902; accuracy: 0.1861271676300578; recall: 0.18345135367429222; time: 0:00:01.896015;\n",
      "classifier: KNeighborsClassifier(n_neighbors=1); length:3000; precision: 0.6440303215990257; accuracy: 0.1791907514450867; recall: 0.17662076064364254; time: 0:00:02.091811;\n",
      "classifier: KNeighborsClassifier(n_neighbors=1); length:4000; precision: 0.6715303625050377; accuracy: 0.17485549132947978; recall: 0.17215899212998; time: 0:00:02.140473;\n",
      "classifier: KNeighborsClassifier(n_neighbors=1); length:5000; precision: 0.7073169986868153; accuracy: 0.17052023121387283; recall: 0.16792878319656804; time: 0:00:02.012233;\n",
      "classifier: KNeighborsClassifier(n_neighbors=1); length:6000; precision: 0.7220688503420789; accuracy: 0.16791907514450868; recall: 0.16537712846558628; time: 0:00:01.944640;\n",
      "classifier: KNeighborsClassifier(); length:10; precision: 0.16106014479910183; accuracy: 0.14710982658959537; recall: 0.14637011987245105; time: 0:00:01.839390;\n",
      "classifier: KNeighborsClassifier(); length:20; precision: 0.25459967467642364; accuracy: 0.20867052023121388; recall: 0.21111388050828483; time: 0:00:01.873663;\n",
      "classifier: KNeighborsClassifier(); length:50; precision: 0.3083999876406494; accuracy: 0.26184971098265897; recall: 0.2598928662511793; time: 0:00:01.778377;\n",
      "classifier: KNeighborsClassifier(); length:100; precision: 0.3487741577013874; accuracy: 0.32976878612716765; recall: 0.3271848825900533; time: 0:00:01.927779;\n",
      "classifier: KNeighborsClassifier(); length:150; precision: 0.3667529625398362; accuracy: 0.3485549132947977; recall: 0.34557784324562546; time: 0:00:01.840485;\n",
      "classifier: KNeighborsClassifier(); length:200; precision: 0.36329104083981945; accuracy: 0.33901734104046244; recall: 0.3367145615454864; time: 0:00:01.887593;\n",
      "classifier: KNeighborsClassifier(); length:300; precision: 0.3319110321596137; accuracy: 0.30057803468208094; recall: 0.2983758993008924; time: 0:00:01.909422;\n",
      "classifier: KNeighborsClassifier(); length:500; precision: 0.2741948615368284; accuracy: 0.24739884393063583; recall: 0.2457196862399456; time: 0:00:01.960052;\n",
      "classifier: KNeighborsClassifier(); length:750; precision: 0.24199919026602087; accuracy: 0.20578034682080926; recall: 0.20461482932893027; time: 0:00:02.076991;\n",
      "classifier: KNeighborsClassifier(); length:1000; precision: 0.2155576026807205; accuracy: 0.1936416184971098; recall: 0.19366724514561995; time: 0:00:02.115043;\n",
      "classifier: KNeighborsClassifier(); length:1500; precision: 0.19863362169118481; accuracy: 0.17023121387283238; recall: 0.16990486821968206; time: 0:00:02.070512;\n",
      "classifier: KNeighborsClassifier(); length:2000; precision: 0.1722035015652739; accuracy: 0.15057803468208092; recall: 0.1500328089248094; time: 0:00:02.130145;\n",
      "classifier: KNeighborsClassifier(); length:2500; precision: 0.18345515204123122; accuracy: 0.15953757225433526; recall: 0.15875424894113188; time: 0:00:02.055188;\n",
      "classifier: KNeighborsClassifier(); length:3000; precision: 0.16560907105847258; accuracy: 0.15173410404624277; recall: 0.15143327675571427; time: 0:00:02.411827;\n",
      "classifier: KNeighborsClassifier(); length:4000; precision: 0.1676505422130487; accuracy: 0.14884393063583815; recall: 0.1481916320248489; time: 0:00:02.229676;\n",
      "classifier: KNeighborsClassifier(); length:5000; precision: 0.1396688974938543; accuracy: 0.12572254335260116; recall: 0.1251351134133556; time: 0:00:02.098808;\n",
      "classifier: KNeighborsClassifier(); length:6000; precision: 0.16004322251045375; accuracy: 0.1375722543352601; recall: 0.13651794006725176; time: 0:00:02.182017;\n",
      "classifier: SVC(); length:10; precision: 0.1724070177002278; accuracy: 0.16647398843930636; recall: 0.1644884085163441; time: 0:00:03.122882;\n",
      "classifier: SVC(); length:20; precision: 0.3516563883237485; accuracy: 0.2708092485549133; recall: 0.26911862351667065; time: 0:00:03.529166;\n",
      "classifier: SVC(); length:50; precision: 0.3809872583531849; accuracy: 0.32947976878612717; recall: 0.32713414999567836; time: 0:00:04.711680;\n",
      "classifier: SVC(); length:100; precision: 0.487945813440175; accuracy: 0.4315028901734104; recall: 0.43015642002031523; time: 0:00:05.269328;\n",
      "classifier: SVC(); length:150; precision: 0.4977868983737047; accuracy: 0.46560693641618495; recall: 0.4640566969575633; time: 0:00:05.989360;\n",
      "classifier: SVC(); length:200; precision: 0.5502524254561995; accuracy: 0.4982658959537572; recall: 0.4962028396418084; time: 0:00:06.221943;\n",
      "classifier: SVC(); length:300; precision: 0.5713375185717435; accuracy: 0.5473988439306359; recall: 0.5454452308452169; time: 0:00:07.543284;\n",
      "classifier: SVC(); length:500; precision: 0.6262007184399655; accuracy: 0.6049132947976879; recall: 0.6031289638413461; time: 0:00:10.386133;\n",
      "classifier: SVC(); length:750; precision: 0.6667961770060522; accuracy: 0.6459537572254336; recall: 0.6439207723379664; time: 0:00:12.291432;\n",
      "classifier: SVC(); length:1000; precision: 0.6789044722828339; accuracy: 0.6601156069364161; recall: 0.6585294293813557; time: 0:00:14.342806;\n",
      "classifier: SVC(); length:1500; precision: 0.7046892662472327; accuracy: 0.6867052023121387; recall: 0.6857793425525068; time: 0:00:17.298679;\n",
      "classifier: SVC(); length:2000; precision: 0.7114841322947645; accuracy: 0.6945086705202312; recall: 0.6932454183523746; time: 0:00:19.000306;\n",
      "classifier: SVC(); length:2500; precision: 0.7259236026794786; accuracy: 0.7106936416184971; recall: 0.7092734244436127; time: 0:00:19.569214;\n",
      "classifier: SVC(); length:3000; precision: 0.7321822572962442; accuracy: 0.7173410404624277; recall: 0.7156357131189277; time: 0:00:19.728809;\n",
      "classifier: SVC(); length:4000; precision: 0.7433000375296989; accuracy: 0.7286127167630058; recall: 0.7273510684916095; time: 0:00:21.126597;\n",
      "classifier: SVC(); length:5000; precision: 0.7498692736419114; accuracy: 0.7349710982658959; recall: 0.733848452709943; time: 0:00:22.735853;\n",
      "classifier: SVC(); length:6000; precision: 0.7515623647659417; accuracy: 0.7364161849710983; recall: 0.7350548495176551; time: 0:00:23.437376;\n",
      "classifier: DecisionTreeClassifier(); length:10; precision: 0.14929303176924325; accuracy: 0.14942196531791907; recall: 0.14690336670277485; time: 0:00:01.165902;\n"
     ]
    },
    {
     "name": "stdout",
     "output_type": "stream",
     "text": [
      "classifier: DecisionTreeClassifier(); length:20; precision: 0.25350859565256756; accuracy: 0.22369942196531792; recall: 0.2207344819782328; time: 0:00:01.220416;\n",
      "classifier: DecisionTreeClassifier(); length:50; precision: 0.2882484424227424; accuracy: 0.276878612716763; recall: 0.27398740242432934; time: 0:00:01.213422;\n",
      "classifier: DecisionTreeClassifier(); length:100; precision: 0.38718075718154715; accuracy: 0.37196531791907517; recall: 0.36880253879728936; time: 0:00:01.225702;\n",
      "classifier: DecisionTreeClassifier(); length:150; precision: 0.4056027133748972; accuracy: 0.4052023121387283; recall: 0.40209507673090616; time: 0:00:01.314836;\n",
      "classifier: DecisionTreeClassifier(); length:200; precision: 0.4661055359993517; accuracy: 0.4482658959537572; recall: 0.4440315287983741; time: 0:00:02.038208;\n",
      "classifier: DecisionTreeClassifier(); length:300; precision: 0.47149389480579806; accuracy: 0.47109826589595377; recall: 0.4671314647970639; time: 0:00:01.496587;\n",
      "classifier: DecisionTreeClassifier(); length:500; precision: 0.5177863341635941; accuracy: 0.5069364161849711; recall: 0.5023942265376065; time: 0:00:01.562024;\n",
      "classifier: DecisionTreeClassifier(); length:750; precision: 0.5312400381058561; accuracy: 0.5179190751445086; recall: 0.5140285001976619; time: 0:00:01.820122;\n",
      "classifier: DecisionTreeClassifier(); length:1000; precision: 0.5319328402616716; accuracy: 0.5219653179190752; recall: 0.5184872767667827; time: 0:00:01.728857;\n",
      "classifier: DecisionTreeClassifier(); length:1500; precision: 0.5578555976484382; accuracy: 0.541907514450867; recall: 0.538358850191445; time: 0:00:02.283340;\n",
      "classifier: DecisionTreeClassifier(); length:2000; precision: 0.5509765390564954; accuracy: 0.5404624277456648; recall: 0.5370679466515695; time: 0:00:02.572267;\n",
      "classifier: DecisionTreeClassifier(); length:2500; precision: 0.5547690936705978; accuracy: 0.5459537572254335; recall: 0.5413498687734494; time: 0:00:02.574843;\n",
      "classifier: DecisionTreeClassifier(); length:3000; precision: 0.5637906685577732; accuracy: 0.5497109826589596; recall: 0.5462292668261416; time: 0:00:02.430148;\n",
      "classifier: DecisionTreeClassifier(); length:4000; precision: 0.5725208586252041; accuracy: 0.5601156069364162; recall: 0.556485918589229; time: 0:00:02.910827;\n",
      "classifier: DecisionTreeClassifier(); length:5000; precision: 0.5637466060165559; accuracy: 0.55; recall: 0.5472580852859018; time: 0:00:02.873592;\n",
      "classifier: DecisionTreeClassifier(); length:6000; precision: 0.5604997411015868; accuracy: 0.5502890173410404; recall: 0.5462055293757302; time: 0:00:02.717572;\n",
      "***************CALCULATION FOR 9 CLASSES DONE**********************\n",
      "***************LOOP OF9 CLASSES DONE for 0:05:19.582318 ***************\n",
      "None\n",
      "***************CALCULATION FOR 11 CLASSES STARTED**********************\n",
      "classifier: KNeighborsClassifier(n_neighbors=1); length:10; precision: 0.1288760934514843; accuracy: 0.11663524976437323; recall: 0.11539845706858244; time: 0:00:02.819225;\n",
      "classifier: KNeighborsClassifier(n_neighbors=1); length:20; precision: 0.18086993698189113; accuracy: 0.16517436380772857; recall: 0.1636666957057895; time: 0:00:02.172029;\n",
      "classifier: KNeighborsClassifier(n_neighbors=1); length:50; precision: 0.24726561903976246; accuracy: 0.2311498586239397; recall: 0.22912013224264227; time: 0:00:02.175983;\n",
      "classifier: KNeighborsClassifier(n_neighbors=1); length:100; precision: 0.3003896736713175; accuracy: 0.29688972667295005; recall: 0.2947058346572122; time: 0:00:02.401910;\n",
      "classifier: KNeighborsClassifier(n_neighbors=1); length:150; precision: 0.3060939455444154; accuracy: 0.3053722902921772; recall: 0.30352929926527744; time: 0:00:02.441018;\n",
      "classifier: KNeighborsClassifier(n_neighbors=1); length:200; precision: 0.3245720621947679; accuracy: 0.31267672007540054; recall: 0.3105117003029886; time: 0:00:02.562604;\n",
      "classifier: KNeighborsClassifier(n_neighbors=1); length:300; precision: 0.3737571792021857; accuracy: 0.3254005655042413; recall: 0.32335499991991284; time: 0:00:03.070825;\n",
      "classifier: KNeighborsClassifier(n_neighbors=1); length:500; precision: 0.40962778263293154; accuracy: 0.29147031102733273; recall: 0.28812225323675306; time: 0:00:03.028639;\n",
      "classifier: KNeighborsClassifier(n_neighbors=1); length:750; precision: 0.47622222439464484; accuracy: 0.2606032045240339; recall: 0.25742356107783565; time: 0:00:02.692942;\n",
      "classifier: KNeighborsClassifier(n_neighbors=1); length:1000; precision: 0.4954306574686471; accuracy: 0.23044297832233743; recall: 0.22756601864177278; time: 0:00:02.902531;\n",
      "classifier: KNeighborsClassifier(n_neighbors=1); length:1500; precision: 0.5591478630378843; accuracy: 0.2085296889726673; recall: 0.20604488400905915; time: 0:00:02.838404;\n",
      "classifier: KNeighborsClassifier(n_neighbors=1); length:2000; precision: 0.5993877943832732; accuracy: 0.19062205466541; recall: 0.18808499906673157; time: 0:00:02.792298;\n",
      "classifier: KNeighborsClassifier(n_neighbors=1); length:2500; precision: 0.6227340579197606; accuracy: 0.18049010367577756; recall: 0.17823848246855678; time: 0:00:02.780685;\n",
      "classifier: KNeighborsClassifier(n_neighbors=1); length:3000; precision: 0.6352451446671308; accuracy: 0.17247879359095195; recall: 0.17020559502929278; time: 0:00:02.576224;\n",
      "classifier: KNeighborsClassifier(n_neighbors=1); length:4000; precision: 0.6561507568554682; accuracy: 0.16564561734213007; recall: 0.1632545997872038; time: 0:00:02.681820;\n",
      "classifier: KNeighborsClassifier(n_neighbors=1); length:5000; precision: 0.6822080057417186; accuracy: 0.16258246936852028; recall: 0.16018501398040708; time: 0:00:03.074720;\n",
      "classifier: KNeighborsClassifier(n_neighbors=1); length:6000; precision: 0.7110669097694652; accuracy: 0.15999057492931196; recall: 0.1576765065259458; time: 0:00:02.849076;\n",
      "classifier: KNeighborsClassifier(); length:10; precision: 0.1534571852869053; accuracy: 0.11710650329877474; recall: 0.11659293089028142; time: 0:00:02.569842;\n",
      "classifier: KNeighborsClassifier(); length:20; precision: 0.1988690489533018; accuracy: 0.16823751178133836; recall: 0.1657641986420746; time: 0:00:02.939301;\n",
      "classifier: KNeighborsClassifier(); length:50; precision: 0.2677630730642057; accuracy: 0.2386899151743638; recall: 0.23656405062607977; time: 0:00:02.674364;\n",
      "classifier: KNeighborsClassifier(); length:100; precision: 0.3192002178440407; accuracy: 0.3006597549481621; recall: 0.29844781092891404; time: 0:00:02.918471;\n",
      "classifier: KNeighborsClassifier(); length:150; precision: 0.3417064641345063; accuracy: 0.3319981149858624; recall: 0.3302458473454104; time: 0:00:03.234594;\n",
      "classifier: KNeighborsClassifier(); length:200; precision: 0.3403944089109381; accuracy: 0.3232799245994345; recall: 0.32138341623971517; time: 0:00:02.894550;\n",
      "classifier: KNeighborsClassifier(); length:300; precision: 0.3279269808730265; accuracy: 0.30466540999057495; recall: 0.3029091872067248; time: 0:00:03.133970;\n",
      "classifier: KNeighborsClassifier(); length:500; precision: 0.2758638458771033; accuracy: 0.23986804901036757; recall: 0.23804185634639802; time: 0:00:03.426009;\n",
      "classifier: KNeighborsClassifier(); length:750; precision: 0.25392325908378743; accuracy: 0.20499528746465598; recall: 0.20426588008764499; time: 0:00:03.214628;\n",
      "classifier: KNeighborsClassifier(); length:1000; precision: 0.21225268340466225; accuracy: 0.1741281809613572; recall: 0.1737296143893084; time: 0:00:03.128214;\n",
      "classifier: KNeighborsClassifier(); length:1500; precision: 0.20683331267019317; accuracy: 0.16211121583411875; recall: 0.16109616793478423; time: 0:00:02.992727;\n",
      "classifier: KNeighborsClassifier(); length:2000; precision: 0.20266504836225224; accuracy: 0.15032987747408105; recall: 0.14993151835663998; time: 0:00:02.923098;\n",
      "classifier: KNeighborsClassifier(); length:2500; precision: 0.19011566695653984; accuracy: 0.1413760603204524; recall: 0.140188249841461; time: 0:00:03.119942;\n",
      "classifier: KNeighborsClassifier(); length:3000; precision: 0.1676790971552559; accuracy: 0.13053722902921772; recall: 0.1306592239829433; time: 0:00:02.924138;\n",
      "classifier: KNeighborsClassifier(); length:4000; precision: 0.16361876355293067; accuracy: 0.12959472196041472; recall: 0.12911043805472586; time: 0:00:02.716661;\n",
      "classifier: KNeighborsClassifier(); length:5000; precision: 0.15834318269448464; accuracy: 0.12535344015080113; recall: 0.12511163987930873; time: 0:00:02.654954;\n"
     ]
    },
    {
     "name": "stdout",
     "output_type": "stream",
     "text": [
      "classifier: KNeighborsClassifier(); length:6000; precision: 0.1476774201886202; accuracy: 0.1204052780395853; recall: 0.12011890999427478; time: 0:00:02.591276;\n",
      "classifier: SVC(); length:10; precision: 0.1280075962646732; accuracy: 0.146559849198869; recall: 0.14379228779624315; time: 0:00:03.940769;\n",
      "classifier: SVC(); length:20; precision: 0.2865955334016015; accuracy: 0.2177191328934967; recall: 0.2158680946619877; time: 0:00:04.674822;\n",
      "classifier: SVC(); length:50; precision: 0.38123345178854806; accuracy: 0.3124410933081998; recall: 0.30964703154661266; time: 0:00:06.409006;\n",
      "classifier: SVC(); length:100; precision: 0.44923791300852506; accuracy: 0.40032987747408105; recall: 0.3987958039182736; time: 0:00:08.365761;\n",
      "classifier: SVC(); length:150; precision: 0.48674123000095887; accuracy: 0.45311027332704995; recall: 0.4516497065040416; time: 0:00:09.153190;\n",
      "classifier: SVC(); length:200; precision: 0.5056990351151416; accuracy: 0.47785108388312914; recall: 0.4761826881103396; time: 0:00:10.437869;\n",
      "classifier: SVC(); length:300; precision: 0.5704604127312097; accuracy: 0.5256833176248822; recall: 0.5236230608443584; time: 0:00:12.090426;\n",
      "classifier: SVC(); length:500; precision: 0.6096556026648229; accuracy: 0.589066918001885; recall: 0.5875517683129807; time: 0:00:13.561101;\n",
      "classifier: SVC(); length:750; precision: 0.6450837316884304; accuracy: 0.6253534401508011; recall: 0.6236194987497948; time: 0:00:14.523994;\n",
      "classifier: SVC(); length:1000; precision: 0.6621794723848913; accuracy: 0.6456173421300659; recall: 0.6440282825073865; time: 0:00:18.706928;\n",
      "classifier: SVC(); length:1500; precision: 0.682628085686493; accuracy: 0.66564561734213; recall: 0.6644220338608366; time: 0:00:22.753914;\n",
      "classifier: SVC(); length:2000; precision: 0.6968399777928656; accuracy: 0.679076343072573; recall: 0.6782985522331036; time: 0:00:25.478982;\n",
      "classifier: SVC(); length:2500; precision: 0.7054215247848217; accuracy: 0.6889726672950047; recall: 0.6879014121057235; time: 0:00:26.867005;\n",
      "classifier: SVC(); length:3000; precision: 0.7118104561480617; accuracy: 0.6953345900094251; recall: 0.6939956861626119; time: 0:00:30.497559;\n",
      "classifier: SVC(); length:4000; precision: 0.7242583535163947; accuracy: 0.7073515551366635; recall: 0.7062389495584626; time: 0:00:31.887839;\n",
      "classifier: SVC(); length:5000; precision: 0.7278075506941349; accuracy: 0.7113572101790764; recall: 0.7103708071558531; time: 0:00:32.848630;\n",
      "classifier: SVC(); length:6000; precision: 0.7326459692363136; accuracy: 0.7158341187558906; recall: 0.715015185933937; time: 0:00:34.238429;\n",
      "classifier: DecisionTreeClassifier(); length:10; precision: 0.1361219781822247; accuracy: 0.1378416588124411; recall: 0.1367786804657295; time: 0:00:01.679167;\n",
      "classifier: DecisionTreeClassifier(); length:20; precision: 0.21686109925773278; accuracy: 0.19203581526861452; recall: 0.18994333314233974; time: 0:00:01.753918;\n",
      "classifier: DecisionTreeClassifier(); length:50; precision: 0.2708673778474377; accuracy: 0.2511781338360038; recall: 0.24826045608338038; time: 0:00:01.840983;\n",
      "classifier: DecisionTreeClassifier(); length:100; precision: 0.35335552301970985; accuracy: 0.3426013195098963; recall: 0.3400121350897201; time: 0:00:01.874153;\n",
      "classifier: DecisionTreeClassifier(); length:150; precision: 0.35283708782909895; accuracy: 0.3567389255419416; recall: 0.3534513162719701; time: 0:00:02.131484;\n",
      "classifier: DecisionTreeClassifier(); length:200; precision: 0.3813362308258165; accuracy: 0.37983034872761545; recall: 0.37643116105652913; time: 0:00:02.318137;\n",
      "classifier: DecisionTreeClassifier(); length:300; precision: 0.4429043302679892; accuracy: 0.44132893496701225; recall: 0.43745353222186123; time: 0:00:02.354257;\n",
      "classifier: DecisionTreeClassifier(); length:500; precision: 0.4709776914910833; accuracy: 0.4688972667295005; recall: 0.46612652897605267; time: 0:00:02.500062;\n",
      "classifier: DecisionTreeClassifier(); length:750; precision: 0.5039417718158771; accuracy: 0.49505183788878415; recall: 0.49182330076256586; time: 0:00:02.736838;\n",
      "classifier: DecisionTreeClassifier(); length:1000; precision: 0.5029397698851995; accuracy: 0.4969368520263902; recall: 0.4936171642757252; time: 0:00:02.757345;\n",
      "classifier: DecisionTreeClassifier(); length:1500; precision: 0.5262850079566744; accuracy: 0.517200754005655; recall: 0.5141200973075055; time: 0:00:03.147874;\n",
      "classifier: DecisionTreeClassifier(); length:2000; precision: 0.5380603259335007; accuracy: 0.5270970782280867; recall: 0.5229930379364902; time: 0:00:03.136012;\n",
      "classifier: DecisionTreeClassifier(); length:2500; precision: 0.5463187470016702; accuracy: 0.5374646559849199; recall: 0.5344347162371288; time: 0:00:03.304768;\n",
      "classifier: DecisionTreeClassifier(); length:3000; precision: 0.5516988628526843; accuracy: 0.5409990574929312; recall: 0.5374930583994408; time: 0:00:03.263840;\n",
      "classifier: DecisionTreeClassifier(); length:4000; precision: 0.5446996707379822; accuracy: 0.5360508953817154; recall: 0.5325296094026416; time: 0:00:03.330394;\n",
      "classifier: DecisionTreeClassifier(); length:5000; precision: 0.544640357294478; accuracy: 0.5367577756833176; recall: 0.5336667339342057; time: 0:00:03.545919;\n",
      "classifier: DecisionTreeClassifier(); length:6000; precision: 0.5538122748451911; accuracy: 0.544062205466541; recall: 0.540791291626575; time: 0:00:03.651990;\n",
      "***************CALCULATION FOR 11 CLASSES DONE**********************\n",
      "***************LOOP OF11 CLASSES DONE for 0:07:30.652723 ***************\n",
      "None\n"
     ]
    }
   ],
   "source": [
    "\n",
    "all_sets_results = []\n",
    "\n",
    "for cls_set in classes_sets:\n",
    "    time_start = datetime.now()\n",
    "    print(f'***************CALCULATION FOR {cls_set} CLASSES STARTED**********************')\n",
    "    prediction_results = pipline_calculation(cls_set, profiles_lengths)\n",
    "    print(f'***************CALCULATION FOR {cls_set} CLASSES DONE**********************')\n",
    "    all_sets_results.append(prediction_results)\n",
    "    time_finish = datetime.now()\n",
    "    proc_time = time_finish - time_start\n",
    "    print(print(f'***************LOOP OF{cls_set} CLASSES DONE for {proc_time} ***************'))"
   ]
  },
  {
   "cell_type": "code",
   "execution_count": 47,
   "metadata": {},
   "outputs": [
    {
     "data": {
      "image/png": "[encoded data removed]",
      "text/plain": [
       "<Figure size 720x360 with 1 Axes>"
      ]
     },
     "metadata": {
      "needs_background": "light"
     },
     "output_type": "display_data"
    },
    {
     "data": {
      "image/png": "[encoded data removed]",
      "text/plain": [
       "<Figure size 720x360 with 1 Axes>"
      ]
     },
     "metadata": {
      "needs_background": "light"
     },
     "output_type": "display_data"
    },
    {
     "data": {
      "image/png": "[encoded data removed]",
      "text/plain": [
       "<Figure size 720x360 with 1 Axes>"
      ]
     },
     "metadata": {
      "needs_background": "light"
     },
     "output_type": "display_data"
    },
    {
     "data": {
      "image/png": "[encoded data removed]",
      "text/plain": [
       "<Figure size 720x360 with 1 Axes>"
      ]
     },
     "metadata": {
      "needs_background": "light"
     },
     "output_type": "display_data"
    },
    {
     "data": {
      "image/png": "[encoded data removed]",
      "text/plain": [
       "<Figure size 720x360 with 1 Axes>"
      ]
     },
     "metadata": {
      "needs_background": "light"
     },
     "output_type": "display_data"
    }
   ],
   "source": [
    "for cls_set in all_sets_results:\n",
    "    draw_chart(cls_set, profiles_lengths)"
   ]
  },
  {
   "cell_type": "code",
   "execution_count": 27,
   "metadata": {},
   "outputs": [
    {
     "data": {
      "text/plain": [
       "{KNeighborsClassifier(n_neighbors=1): {10: [0.1288760934514843,\n",
       "   0.11663524976437323,\n",
       "   0.11539845706858244,\n",
       "   datetime.timedelta(seconds=2, microseconds=819225)],\n",
       "  20: [0.18086993698189113,\n",
       "   0.16517436380772857,\n",
       "   0.1636666957057895,\n",
       "   datetime.timedelta(seconds=2, microseconds=172029)],\n",
       "  50: [0.24726561903976246,\n",
       "   0.2311498586239397,\n",
       "   0.22912013224264227,\n",
       "   datetime.timedelta(seconds=2, microseconds=175983)],\n",
       "  100: [0.3003896736713175,\n",
       "   0.29688972667295005,\n",
       "   0.2947058346572122,\n",
       "   datetime.timedelta(seconds=2, microseconds=401910)],\n",
       "  150: [0.3060939455444154,\n",
       "   0.3053722902921772,\n",
       "   0.30352929926527744,\n",
       "   datetime.timedelta(seconds=2, microseconds=441018)],\n",
       "  200: [0.3245720621947679,\n",
       "   0.31267672007540054,\n",
       "   0.3105117003029886,\n",
       "   datetime.timedelta(seconds=2, microseconds=562604)],\n",
       "  300: [0.3737571792021857,\n",
       "   0.3254005655042413,\n",
       "   0.32335499991991284,\n",
       "   datetime.timedelta(seconds=3, microseconds=70825)],\n",
       "  500: [0.40962778263293154,\n",
       "   0.29147031102733273,\n",
       "   0.28812225323675306,\n",
       "   datetime.timedelta(seconds=3, microseconds=28639)],\n",
       "  750: [0.47622222439464484,\n",
       "   0.2606032045240339,\n",
       "   0.25742356107783565,\n",
       "   datetime.timedelta(seconds=2, microseconds=692942)],\n",
       "  1000: [0.4954306574686471,\n",
       "   0.23044297832233743,\n",
       "   0.22756601864177278,\n",
       "   datetime.timedelta(seconds=2, microseconds=902531)],\n",
       "  1500: [0.5591478630378843,\n",
       "   0.2085296889726673,\n",
       "   0.20604488400905915,\n",
       "   datetime.timedelta(seconds=2, microseconds=838404)],\n",
       "  2000: [0.5993877943832732,\n",
       "   0.19062205466541,\n",
       "   0.18808499906673157,\n",
       "   datetime.timedelta(seconds=2, microseconds=792298)],\n",
       "  2500: [0.6227340579197606,\n",
       "   0.18049010367577756,\n",
       "   0.17823848246855678,\n",
       "   datetime.timedelta(seconds=2, microseconds=780685)],\n",
       "  3000: [0.6352451446671308,\n",
       "   0.17247879359095195,\n",
       "   0.17020559502929278,\n",
       "   datetime.timedelta(seconds=2, microseconds=576224)],\n",
       "  4000: [0.6561507568554682,\n",
       "   0.16564561734213007,\n",
       "   0.1632545997872038,\n",
       "   datetime.timedelta(seconds=2, microseconds=681820)],\n",
       "  5000: [0.6822080057417186,\n",
       "   0.16258246936852028,\n",
       "   0.16018501398040708,\n",
       "   datetime.timedelta(seconds=3, microseconds=74720)],\n",
       "  6000: [0.7110669097694652,\n",
       "   0.15999057492931196,\n",
       "   0.1576765065259458,\n",
       "   datetime.timedelta(seconds=2, microseconds=849076)]},\n",
       " KNeighborsClassifier(): {10: [0.1534571852869053,\n",
       "   0.11710650329877474,\n",
       "   0.11659293089028142,\n",
       "   datetime.timedelta(seconds=2, microseconds=569842)],\n",
       "  20: [0.1988690489533018,\n",
       "   0.16823751178133836,\n",
       "   0.1657641986420746,\n",
       "   datetime.timedelta(seconds=2, microseconds=939301)],\n",
       "  50: [0.2677630730642057,\n",
       "   0.2386899151743638,\n",
       "   0.23656405062607977,\n",
       "   datetime.timedelta(seconds=2, microseconds=674364)],\n",
       "  100: [0.3192002178440407,\n",
       "   0.3006597549481621,\n",
       "   0.29844781092891404,\n",
       "   datetime.timedelta(seconds=2, microseconds=918471)],\n",
       "  150: [0.3417064641345063,\n",
       "   0.3319981149858624,\n",
       "   0.3302458473454104,\n",
       "   datetime.timedelta(seconds=3, microseconds=234594)],\n",
       "  200: [0.3403944089109381,\n",
       "   0.3232799245994345,\n",
       "   0.32138341623971517,\n",
       "   datetime.timedelta(seconds=2, microseconds=894550)],\n",
       "  300: [0.3279269808730265,\n",
       "   0.30466540999057495,\n",
       "   0.3029091872067248,\n",
       "   datetime.timedelta(seconds=3, microseconds=133970)],\n",
       "  500: [0.2758638458771033,\n",
       "   0.23986804901036757,\n",
       "   0.23804185634639802,\n",
       "   datetime.timedelta(seconds=3, microseconds=426009)],\n",
       "  750: [0.25392325908378743,\n",
       "   0.20499528746465598,\n",
       "   0.20426588008764499,\n",
       "   datetime.timedelta(seconds=3, microseconds=214628)],\n",
       "  1000: [0.21225268340466225,\n",
       "   0.1741281809613572,\n",
       "   0.1737296143893084,\n",
       "   datetime.timedelta(seconds=3, microseconds=128214)],\n",
       "  1500: [0.20683331267019317,\n",
       "   0.16211121583411875,\n",
       "   0.16109616793478423,\n",
       "   datetime.timedelta(seconds=2, microseconds=992727)],\n",
       "  2000: [0.20266504836225224,\n",
       "   0.15032987747408105,\n",
       "   0.14993151835663998,\n",
       "   datetime.timedelta(seconds=2, microseconds=923098)],\n",
       "  2500: [0.19011566695653984,\n",
       "   0.1413760603204524,\n",
       "   0.140188249841461,\n",
       "   datetime.timedelta(seconds=3, microseconds=119942)],\n",
       "  3000: [0.1676790971552559,\n",
       "   0.13053722902921772,\n",
       "   0.1306592239829433,\n",
       "   datetime.timedelta(seconds=2, microseconds=924138)],\n",
       "  4000: [0.16361876355293067,\n",
       "   0.12959472196041472,\n",
       "   0.12911043805472586,\n",
       "   datetime.timedelta(seconds=2, microseconds=716661)],\n",
       "  5000: [0.15834318269448464,\n",
       "   0.12535344015080113,\n",
       "   0.12511163987930873,\n",
       "   datetime.timedelta(seconds=2, microseconds=654954)],\n",
       "  6000: [0.1476774201886202,\n",
       "   0.1204052780395853,\n",
       "   0.12011890999427478,\n",
       "   datetime.timedelta(seconds=2, microseconds=591276)]},\n",
       " SVC(): {10: [0.1280075962646732,\n",
       "   0.146559849198869,\n",
       "   0.14379228779624315,\n",
       "   datetime.timedelta(seconds=3, microseconds=940769)],\n",
       "  20: [0.2865955334016015,\n",
       "   0.2177191328934967,\n",
       "   0.2158680946619877,\n",
       "   datetime.timedelta(seconds=4, microseconds=674822)],\n",
       "  50: [0.38123345178854806,\n",
       "   0.3124410933081998,\n",
       "   0.30964703154661266,\n",
       "   datetime.timedelta(seconds=6, microseconds=409006)],\n",
       "  100: [0.44923791300852506,\n",
       "   0.40032987747408105,\n",
       "   0.3987958039182736,\n",
       "   datetime.timedelta(seconds=8, microseconds=365761)],\n",
       "  150: [0.48674123000095887,\n",
       "   0.45311027332704995,\n",
       "   0.4516497065040416,\n",
       "   datetime.timedelta(seconds=9, microseconds=153190)],\n",
       "  200: [0.5056990351151416,\n",
       "   0.47785108388312914,\n",
       "   0.4761826881103396,\n",
       "   datetime.timedelta(seconds=10, microseconds=437869)],\n",
       "  300: [0.5704604127312097,\n",
       "   0.5256833176248822,\n",
       "   0.5236230608443584,\n",
       "   datetime.timedelta(seconds=12, microseconds=90426)],\n",
       "  500: [0.6096556026648229,\n",
       "   0.589066918001885,\n",
       "   0.5875517683129807,\n",
       "   datetime.timedelta(seconds=13, microseconds=561101)],\n",
       "  750: [0.6450837316884304,\n",
       "   0.6253534401508011,\n",
       "   0.6236194987497948,\n",
       "   datetime.timedelta(seconds=14, microseconds=523994)],\n",
       "  1000: [0.6621794723848913,\n",
       "   0.6456173421300659,\n",
       "   0.6440282825073865,\n",
       "   datetime.timedelta(seconds=18, microseconds=706928)],\n",
       "  1500: [0.682628085686493,\n",
       "   0.66564561734213,\n",
       "   0.6644220338608366,\n",
       "   datetime.timedelta(seconds=22, microseconds=753914)],\n",
       "  2000: [0.6968399777928656,\n",
       "   0.679076343072573,\n",
       "   0.6782985522331036,\n",
       "   datetime.timedelta(seconds=25, microseconds=478982)],\n",
       "  2500: [0.7054215247848217,\n",
       "   0.6889726672950047,\n",
       "   0.6879014121057235,\n",
       "   datetime.timedelta(seconds=26, microseconds=867005)],\n",
       "  3000: [0.7118104561480617,\n",
       "   0.6953345900094251,\n",
       "   0.6939956861626119,\n",
       "   datetime.timedelta(seconds=30, microseconds=497559)],\n",
       "  4000: [0.7242583535163947,\n",
       "   0.7073515551366635,\n",
       "   0.7062389495584626,\n",
       "   datetime.timedelta(seconds=31, microseconds=887839)],\n",
       "  5000: [0.7278075506941349,\n",
       "   0.7113572101790764,\n",
       "   0.7103708071558531,\n",
       "   datetime.timedelta(seconds=32, microseconds=848630)],\n",
       "  6000: [0.7326459692363136,\n",
       "   0.7158341187558906,\n",
       "   0.715015185933937,\n",
       "   datetime.timedelta(seconds=34, microseconds=238429)]},\n",
       " DecisionTreeClassifier(): {10: [0.1361219781822247,\n",
       "   0.1378416588124411,\n",
       "   0.1367786804657295,\n",
       "   datetime.timedelta(seconds=1, microseconds=679167)],\n",
       "  20: [0.21686109925773278,\n",
       "   0.19203581526861452,\n",
       "   0.18994333314233974,\n",
       "   datetime.timedelta(seconds=1, microseconds=753918)],\n",
       "  50: [0.2708673778474377,\n",
       "   0.2511781338360038,\n",
       "   0.24826045608338038,\n",
       "   datetime.timedelta(seconds=1, microseconds=840983)],\n",
       "  100: [0.35335552301970985,\n",
       "   0.3426013195098963,\n",
       "   0.3400121350897201,\n",
       "   datetime.timedelta(seconds=1, microseconds=874153)],\n",
       "  150: [0.35283708782909895,\n",
       "   0.3567389255419416,\n",
       "   0.3534513162719701,\n",
       "   datetime.timedelta(seconds=2, microseconds=131484)],\n",
       "  200: [0.3813362308258165,\n",
       "   0.37983034872761545,\n",
       "   0.37643116105652913,\n",
       "   datetime.timedelta(seconds=2, microseconds=318137)],\n",
       "  300: [0.4429043302679892,\n",
       "   0.44132893496701225,\n",
       "   0.43745353222186123,\n",
       "   datetime.timedelta(seconds=2, microseconds=354257)],\n",
       "  500: [0.4709776914910833,\n",
       "   0.4688972667295005,\n",
       "   0.46612652897605267,\n",
       "   datetime.timedelta(seconds=2, microseconds=500062)],\n",
       "  750: [0.5039417718158771,\n",
       "   0.49505183788878415,\n",
       "   0.49182330076256586,\n",
       "   datetime.timedelta(seconds=2, microseconds=736838)],\n",
       "  1000: [0.5029397698851995,\n",
       "   0.4969368520263902,\n",
       "   0.4936171642757252,\n",
       "   datetime.timedelta(seconds=2, microseconds=757345)],\n",
       "  1500: [0.5262850079566744,\n",
       "   0.517200754005655,\n",
       "   0.5141200973075055,\n",
       "   datetime.timedelta(seconds=3, microseconds=147874)],\n",
       "  2000: [0.5380603259335007,\n",
       "   0.5270970782280867,\n",
       "   0.5229930379364902,\n",
       "   datetime.timedelta(seconds=3, microseconds=136012)],\n",
       "  2500: [0.5463187470016702,\n",
       "   0.5374646559849199,\n",
       "   0.5344347162371288,\n",
       "   datetime.timedelta(seconds=3, microseconds=304768)],\n",
       "  3000: [0.5516988628526843,\n",
       "   0.5409990574929312,\n",
       "   0.5374930583994408,\n",
       "   datetime.timedelta(seconds=3, microseconds=263840)],\n",
       "  4000: [0.5446996707379822,\n",
       "   0.5360508953817154,\n",
       "   0.5325296094026416,\n",
       "   datetime.timedelta(seconds=3, microseconds=330394)],\n",
       "  5000: [0.544640357294478,\n",
       "   0.5367577756833176,\n",
       "   0.5336667339342057,\n",
       "   datetime.timedelta(seconds=3, microseconds=545919)],\n",
       "  6000: [0.5538122748451911,\n",
       "   0.544062205466541,\n",
       "   0.540791291626575,\n",
       "   datetime.timedelta(seconds=3, microseconds=651990)]}}"
      ]
     },
     "execution_count": 27,
     "metadata": {},
     "output_type": "execute_result"
    }
   ],
   "source": [
    "all_sets_results[4]"
   ]
  },
  {
   "cell_type": "code",
   "execution_count": 55,
   "metadata": {},
   "outputs": [],
   "source": [
    "# create tables profiles - lengths - cells = accuracy ... data\n",
    "for index,dataset in enumerate(all_sets_results):\n",
    "    with open ('other_results'+str(index)+'.txt', 'w') as file:\n",
    "        file.write('class;'+'10;'+'20;'+'50;'+'100;'+'150;'+'200;'+'300;'+'500;'+'750;'+'1000;'+ '1500;'+ '2000;'+ '2500;'+'3000;'+ '4000;'+ '5000;'+ '6000;'+'\\n')\n",
    "        for cls, cls_data in dataset.items():\n",
    "            new_string = []\n",
    "            new_string.append(cls)\n",
    "            for subcls, data in cls_data.items():\n",
    "                data_str = []\n",
    "                for i in data:\n",
    "                    data_str.append(str(i))\n",
    "                new_string.append(data_str)\n",
    "            for j in new_string:\n",
    "                file.write(str(j)+';')\n",
    "            file.write('\\n') \n",
    "        file.write('\\n') "
   ]
  },
  {
   "cell_type": "code",
   "execution_count": 53,
   "metadata": {},
   "outputs": [
    {
     "name": "stdout",
     "output_type": "stream",
     "text": [
      "KNeighborsClassifier(n_neighbors=1);\n",
      "['0.48405123504755676', '0.4794144556267155', '0.4734682930189962', '0:00:00.440329'];\n",
      "['0.5189439807874462', '0.515096065873742', '0.5125875893046441', '0:00:00.453861'];\n",
      "['0.5505760761560329', '0.5535224153705398', '0.5509476461542929', '0:00:00.456464'];\n",
      "['0.5881607601380626', '0.5892040256175664', '0.5874682416640463', '0:00:00.459555'];\n",
      "['0.5964777212943831', '0.5901189387008234', '0.5881058849264663', '0:00:00.462285'];\n",
      "['0.5753310006154698', '0.5535224153705398', '0.5473649508641172', '0:00:00.470030'];\n",
      "['0.6063592700681374', '0.5361390667886551', '0.5256011019705848', '0:00:00.532403'];\n",
      "['0.5991135016684098', '0.46660567246111617', '0.4514013797643818', '0:00:00.595993'];\n",
      "['0.6260377244395725', '0.44190301921317476', '0.4266042774183165', '0:00:00.499226'];\n",
      "['0.6695025001559158', '0.43000914913083255', '0.4129528969874428', '0:00:00.535424'];\n",
      "['0.7065537782001196', '0.4162854528819762', '0.39733672668881664', '0:00:00.533430'];\n",
      "['0.7370907578954684', '0.41354071363220496', '0.3936850530015355', '0:00:00.498592'];\n",
      "['0.7428451178451178', '0.40988106129917656', '0.39007171311834127', '0:00:00.545015'];\n",
      "['0.7381181043846109', '0.40530649588289114', '0.3851538592894019', '0:00:00.497499'];\n",
      "['0.7446039941199669', '0.40347666971637697', '0.3823264606098415', '0:00:00.505738'];\n",
      "['0.7525480820743597', '0.40164684354986274', '0.38064528757298616', '0:00:00.520226'];\n",
      "['0.7638212825187476', '0.3989021043000915', '0.37788884571892645', '0:00:00.500120'];\n",
      "KNeighborsClassifier();\n",
      "['0.5554375890829956', '0.5123513266239708', '0.501368174439575', '0:00:00.452004'];\n",
      "['0.567480073124291', '0.5443732845379688', '0.5395924493631075', '0:00:00.460169'];\n",
      "['0.6093108550990741', '0.6084172003659652', '0.602918771202333', '0:00:00.483424'];\n",
      "['0.6344230607150235', '0.6358645928636779', '0.6272846322838261', '0:00:00.507630'];\n",
      "['0.5867057975491711', '0.5773101555352241', '0.5695590728551346', '0:00:00.476229'];\n",
      "['0.5513221130261924', '0.5480329368709973', '0.5390593962089102', '0:00:00.473690'];\n",
      "['0.4802937585290527', '0.4830741079597438', '0.47150274545526233', '0:00:00.476956'];\n",
      "['0.4498366196014249', '0.4537968892955169', '0.4489079145414347', '0:00:00.490502'];\n",
      "['0.40544911552155755', '0.4080512351326624', '0.4060177477655335', '0:00:00.491189'];\n",
      "['0.4014468240273454', '0.40164684354986274', '0.3983386252785059', '0:00:00.495418'];\n",
      "['0.3731276746817691', '0.3806038426349497', '0.3725917089257569', '0:00:00.487137'];\n",
      "['0.3778339958501203', '0.38334858188472093', '0.3738521782847419', '0:00:00.498039'];\n",
      "['0.3593818025213374', '0.36230558096980786', '0.35284417322670025', '0:00:00.498392'];\n",
      "['0.35216950656162416', '0.35681610247026535', '0.3481938983303889', '0:00:00.506166'];\n",
      "['0.34587698935525024', '0.3513266239707228', '0.34275801898421315', '0:00:00.508111'];\n",
      "['0.37475059869044564', '0.3888380603842635', '0.3747366620601557', '0:00:00.504532'];\n",
      "['0.3887077797116409', '0.3970722781335773', '0.3865325432528646', '0:00:00.502509'];\n",
      "SVC();\n",
      "['0.5655418848616194', '0.5333943275388838', '0.5305537677204394', '0:00:00.499991'];\n",
      "['0.5968827967352058', '0.5837145471180238', '0.5802618793750804', '0:00:00.624125'];\n",
      "['0.6898069197097799', '0.687099725526075', '0.6835698958406559', '0:00:00.651142'];\n",
      "['0.7299844943016053', '0.7328453796889296', '0.7273326617901915', '0:00:00.783282'];\n",
      "['0.7512265185909454', '0.7548032936870998', '0.7507479090747985', '0:00:00.824585'];\n",
      "['0.7647559424642588', '0.7666971637694419', '0.7617570913678925', '0:00:00.766628'];\n",
      "['0.7691711045316879', '0.7703568161024703', '0.7646165658439911', '0:00:00.877300'];\n",
      "['0.8018330196817938', '0.8042086001829826', '0.8031682917140753', '0:00:01.033210'];\n",
      "['0.8124896569342548', '0.8133577310155535', '0.8125128860934584', '0:00:01.271113'];\n",
      "['0.8239938684503901', '0.8252516010978957', '0.8242641754745317', '0:00:01.382059'];\n",
      "['0.8496461004121736', '0.8435498627630376', '0.8402894174145757', '0:00:01.573246'];\n",
      "['0.8518574874326549', '0.8472095150960659', '0.843946254659655', '0:00:01.701866'];\n",
      "['0.8551468578197613', '0.8499542543458372', '0.846265954937575', '0:00:01.758849'];\n",
      "['0.8627638458169499', '0.8581884720951509', '0.8548297716711223', '0:00:01.803354'];\n",
      "['0.8656292995152478', '0.8609332113449222', '0.857171220629985', '0:00:01.994639'];\n",
      "['0.8693334102283384', '0.8645928636779506', '0.8607845605131791', '0:00:02.058855'];\n",
      "['0.8678043582405707', '0.8627630375114365', '0.8590925131358524', '0:00:02.130744'];\n",
      "DecisionTreeClassifier();\n",
      "['0.5187941371868385', '0.5013723696248856', '0.49202412728506734', '0:00:00.437953'];\n",
      "['0.5494833020046896', '0.5388838060384263', '0.5331852178004114', '0:00:00.411398'];\n",
      "['0.6489607965611215', '0.6450137236962489', '0.6381034504773415', '0:00:00.443619'];\n",
      "['0.6561294715517044', '0.6532479414455626', '0.6471248734893261', '0:00:00.413397'];\n",
      "['0.701577230121062', '0.7017383348581885', '0.6961231643236321', '0:00:00.503058'];\n",
      "['0.6898593616609664', '0.6898444647758463', '0.6812929352286398', '0:00:00.526716'];\n",
      "['0.6855368095034334', '0.6861848124428179', '0.6826351094709331', '0:00:00.535884'];\n",
      "['0.693148832750852', '0.6925892040256175', '0.6950096458907832', '0:00:00.549842'];\n",
      "['0.7206256992071599', '0.717291857273559', '0.7203413588772293', '0:00:00.517753'];\n",
      "['0.6973475010198561', '0.6907593778591034', '0.6925102453826497', '0:00:00.544510'];\n",
      "['0.7054914651350582', '0.7044830741079597', '0.699609954946555', '0:00:00.569902'];\n",
      "['0.7095452748121787', '0.707227813357731', '0.703523496783791', '0:00:00.570354'];\n",
      "['0.7174749202924081', '0.7154620311070449', '0.7132009161386298', '0:00:00.566268'];\n",
      "['0.6992380627860175', '0.6980786825251601', '0.6974653385659257', '0:00:00.603558'];\n",
      "['0.7068420560823175', '0.7044830741079597', '0.7007018088869038', '0:00:00.653892'];\n",
      "['0.6972419682374918', '0.6989935956084172', '0.69602978530965', '0:00:00.595845'];\n",
      "['0.7069509770873567', '0.7053979871912168', '0.7015478325755672', '0:00:00.608039'];\n"
     ]
    }
   ],
   "source": [
    "for cls, cls_data in all_sets_results[0].items():\n",
    "                new_string = []\n",
    "                new_string.append(cls)\n",
    "                for subprofile, data in cls_data.items():\n",
    "                    data_str = []\n",
    "                    for i in data:\n",
    "                        data_str.append(str(i))\n",
    "                    new_string.append(data_str)\n",
    "                for j in new_string:\n",
    "                    print((str(j)+';'))\n"
   ]
  },
  {
   "cell_type": "markdown",
   "metadata": {},
   "source": [
    "# Methodes setup using Gridsearch"
   ]
  },
  {
   "cell_type": "code",
   "execution_count": 64,
   "metadata": {},
   "outputs": [],
   "source": [
    "categories = ['sci.space', 'comp.graphics', 'talk.politics.misc', 'rec.sport.hockey', \n",
    "                  'comp.sys.mac.hardware', 'sci.crypt', 'sci.electronics', 'sci.med',\n",
    "                  'soc.religion.christian','comp.os.ms-windows.misc', 'misc.forsale',] \n",
    "categories = categories[:7]\n",
    "remove = ('headers', 'footers', 'quotes')\n",
    "twenty_train = fetch_20newsgroups(subset='train', shuffle=True, random_state=42, \n",
    "                                  categories = categories, remove = remove )\n",
    "twenty_test = fetch_20newsgroups(subset='test', shuffle=True, random_state=42,\n",
    "                                 categories = categories, remove = remove )"
   ]
  },
  {
   "cell_type": "markdown",
   "metadata": {},
   "source": [
    "## knN"
   ]
  },
  {
   "cell_type": "code",
   "execution_count": 114,
   "metadata": {},
   "outputs": [
    {
     "name": "stdout",
     "output_type": "stream",
     "text": [
      "CPU times: user 15 s, sys: 16.1 s, total: 31.1 s\n",
      "Wall time: 6min 25s\n"
     ]
    },
    {
     "data": {
      "text/plain": [
       "GridSearchCV(cv=3,\n",
       "             estimator=Pipeline(steps=[('vect',\n",
       "                                        CountVectorizer(max_features=1000,\n",
       "                                                        stop_words='english')),\n",
       "                                       ('tfidf',\n",
       "                                        TfidfTransformer(use_idf=False)),\n",
       "                                       ('clf',\n",
       "                                        KNeighborsClassifier(metric='euclidean'))]),\n",
       "             n_jobs=-1,\n",
       "             param_grid={'clf__n_neighbors': (1, 3, 5, 7, 11, 15, 21, 35),\n",
       "                         'tfidf__use_idf': (True, False),\n",
       "                         'vect__max_features': (10, 20, 50, 100, 150, 200, 300,\n",
       "                                                500, 750, 1000, 1500, 2000,\n",
       "                                                2500, 3000, 4000, 5000, 6000),\n",
       "                         'vect__stop_words': ('english', 'english')})"
      ]
     },
     "execution_count": 114,
     "metadata": {},
     "output_type": "execute_result"
    }
   ],
   "source": [
    "%%time\n",
    "text_clf = Pipeline([('vect', CountVectorizer(max_features= 1000, stop_words = 'english')),\n",
    "                                ('tfidf', TfidfTransformer(use_idf = False)),\n",
    "                                ('clf', KNeighborsClassifier (metric='euclidean')),]) \n",
    "parameters = {'vect__max_features': (10, 20, 50, 100, 150, 200, 300, 500, 750, 1000, 1500, 2000, 2500, 3000, 4000, 5000, 6000,),\n",
    "              'vect__stop_words': ('english','english'),\n",
    "              'tfidf__use_idf': (True, False),               \n",
    "              'clf__n_neighbors': (1,3,5,7,11,15,21,35)}      \n",
    "\n",
    "gs_clf = GridSearchCV(text_clf, parameters, n_jobs=-1, cv=3)\n",
    "\n",
    "gs_clf.fit(twenty_train.data, twenty_train.target)"
   ]
  },
  {
   "cell_type": "code",
   "execution_count": 115,
   "metadata": {},
   "outputs": [
    {
     "data": {
      "text/plain": [
       "{'clf__n_neighbors': 1,\n",
       " 'tfidf__use_idf': True,\n",
       " 'vect__max_features': 150,\n",
       " 'vect__stop_words': 'english'}"
      ]
     },
     "execution_count": 115,
     "metadata": {},
     "output_type": "execute_result"
    }
   ],
   "source": [
    "gs_clf.best_params_"
   ]
  },
  {
   "cell_type": "code",
   "execution_count": 116,
   "metadata": {},
   "outputs": [
    {
     "data": {
      "text/plain": [
       "0.4580681333961291"
      ]
     },
     "execution_count": 116,
     "metadata": {},
     "output_type": "execute_result"
    }
   ],
   "source": [
    "gs_clf.best_score_"
   ]
  },
  {
   "cell_type": "markdown",
   "metadata": {},
   "source": [
    "## SVC"
   ]
  },
  {
   "cell_type": "code",
   "execution_count": 102,
   "metadata": {},
   "outputs": [
    {
     "name": "stdout",
     "output_type": "stream",
     "text": [
      "CPU times: user 46.4 s, sys: 34.8 s, total: 1min 21s\n",
      "Wall time: 55min 26s\n"
     ]
    },
    {
     "data": {
      "text/plain": [
       "GridSearchCV(cv=3,\n",
       "             estimator=Pipeline(steps=[('vect',\n",
       "                                        CountVectorizer(max_features=1000,\n",
       "                                                        stop_words='english')),\n",
       "                                       ('tfidf',\n",
       "                                        TfidfTransformer(use_idf=False)),\n",
       "                                       ('clf', SVC())]),\n",
       "             n_jobs=-1,\n",
       "             param_grid={'clf__C': (0, 0.1, 0.2, 0.5, 1, 2),\n",
       "                         'clf__kernel': ('linear', 'poly', 'rbf'),\n",
       "                         'tfidf__use_idf': (True, False),\n",
       "                         'vect__max_features': (10, 20, 50, 100, 150, 200, 300,\n",
       "                                                500, 750, 1000, 1500, 2000,\n",
       "                                                2500, 3000, 4000, 5000, 6000),\n",
       "                         'vect__stop_words': ('english', None)})"
      ]
     },
     "execution_count": 102,
     "metadata": {},
     "output_type": "execute_result"
    }
   ],
   "source": [
    "%%time\n",
    "text_clf = Pipeline([('vect', CountVectorizer(max_features= 10000, stop_words = 'english')),\n",
    "                                ('tfidf', TfidfTransformer(use_idf = False)),\n",
    "                                ('clf', SVC()),]) \n",
    "parameters = {'vect__max_features': (10, 20, 50, 100, 150, 200, 300, 500, 750, 1000, 1500, 2000, 2500, 3000, 4000, 5000, 6000,),\n",
    "              'vect__stop_words': ('english',None),\n",
    "              'tfidf__use_idf': (True, False),               \n",
    "              'clf__C': (0, 0.1, 0.2, 0.5, 1, 2),\n",
    "             'clf__kernel': ('linear', 'poly', 'rbf')}      \n",
    "\n",
    "gs_clf = GridSearchCV(text_clf, parameters, n_jobs=-1, cv=3)\n",
    "\n",
    "gs_clf.fit(twenty_train.data, twenty_train.target)"
   ]
  },
  {
   "cell_type": "code",
   "execution_count": 103,
   "metadata": {},
   "outputs": [
    {
     "data": {
      "text/plain": [
       "{'clf__C': 2,\n",
       " 'clf__kernel': 'rbf',\n",
       " 'tfidf__use_idf': True,\n",
       " 'vect__max_features': 6000,\n",
       " 'vect__stop_words': 'english'}"
      ]
     },
     "execution_count": 103,
     "metadata": {},
     "output_type": "execute_result"
    }
   ],
   "source": [
    "gs_clf.best_params_"
   ]
  },
  {
   "cell_type": "code",
   "execution_count": 104,
   "metadata": {},
   "outputs": [
    {
     "data": {
      "text/plain": [
       "0.818521197305763"
      ]
     },
     "execution_count": 104,
     "metadata": {},
     "output_type": "execute_result"
    }
   ],
   "source": [
    "gs_clf.best_score_"
   ]
  },
  {
   "cell_type": "markdown",
   "metadata": {},
   "source": [
    "## Decision Tree"
   ]
  },
  {
   "cell_type": "code",
   "execution_count": 105,
   "metadata": {},
   "outputs": [
    {
     "name": "stdout",
     "output_type": "stream",
     "text": [
      "CPU times: user 26.1 s, sys: 24.3 s, total: 50.4 s\n",
      "Wall time: 8min 51s\n"
     ]
    },
    {
     "data": {
      "text/plain": [
       "GridSearchCV(cv=3,\n",
       "             estimator=Pipeline(steps=[('vect',\n",
       "                                        CountVectorizer(max_features=1000,\n",
       "                                                        stop_words='english')),\n",
       "                                       ('tfidf',\n",
       "                                        TfidfTransformer(use_idf=False)),\n",
       "                                       ('clf', DecisionTreeClassifier())]),\n",
       "             n_jobs=-1,\n",
       "             param_grid={'clf__criterion': ('gini', 'entropy'),\n",
       "                         'clf__max_depth': (5, 10, 15, 25, 50, 100),\n",
       "                         'tfidf__use_idf': (True, False),\n",
       "                         'vect__max_features': (10, 20, 50, 100, 150, 200, 300,\n",
       "                                                500, 750, 1000, 1500, 2000,\n",
       "                                                2500, 3000, 4000, 5000, 6000),\n",
       "                         'vect__stop_words': ('english', None)})"
      ]
     },
     "execution_count": 105,
     "metadata": {},
     "output_type": "execute_result"
    }
   ],
   "source": [
    "%%time\n",
    "text_clf = Pipeline([('vect', CountVectorizer(max_features= 1000, stop_words = 'english')),\n",
    "                                ('tfidf', TfidfTransformer(use_idf = False)),\n",
    "                                ('clf', DecisionTreeClassifier()),]) \n",
    "parameters = {'vect__max_features': (10, 20, 50, 100, 150, 200, 300, 500, 750, 1000, 1500, 2000, 2500, 3000, 4000, 5000, 6000,),\n",
    "              'vect__stop_words': ('english',None),\n",
    "              'tfidf__use_idf': (True, False),               \n",
    "              'clf__criterion': ('gini', 'entropy'),\n",
    "             'clf__max_depth':(5,10,15,25,50,100,)}      \n",
    "\n",
    "gs_clf = GridSearchCV(text_clf, parameters, n_jobs=-1, cv=3)\n",
    "\n",
    "gs_clf.fit(twenty_train.data, twenty_train.target)"
   ]
  },
  {
   "cell_type": "code",
   "execution_count": 106,
   "metadata": {},
   "outputs": [
    {
     "data": {
      "text/plain": [
       "dict_keys(['memory', 'steps', 'verbose', 'vect', 'tfidf', 'clf', 'vect__analyzer', 'vect__binary', 'vect__decode_error', 'vect__dtype', 'vect__encoding', 'vect__input', 'vect__lowercase', 'vect__max_df', 'vect__max_features', 'vect__min_df', 'vect__ngram_range', 'vect__preprocessor', 'vect__stop_words', 'vect__strip_accents', 'vect__token_pattern', 'vect__tokenizer', 'vect__vocabulary', 'tfidf__norm', 'tfidf__smooth_idf', 'tfidf__sublinear_tf', 'tfidf__use_idf', 'clf__ccp_alpha', 'clf__class_weight', 'clf__criterion', 'clf__max_depth', 'clf__max_features', 'clf__max_leaf_nodes', 'clf__min_impurity_decrease', 'clf__min_impurity_split', 'clf__min_samples_leaf', 'clf__min_samples_split', 'clf__min_weight_fraction_leaf', 'clf__presort', 'clf__random_state', 'clf__splitter'])"
      ]
     },
     "execution_count": 106,
     "metadata": {},
     "output_type": "execute_result"
    }
   ],
   "source": [
    "text_clf.get_params().keys()"
   ]
  },
  {
   "cell_type": "code",
   "execution_count": 107,
   "metadata": {},
   "outputs": [
    {
     "data": {
      "text/plain": [
       "{'clf__criterion': 'gini',\n",
       " 'clf__max_depth': 100,\n",
       " 'tfidf__use_idf': False,\n",
       " 'vect__max_features': 5000,\n",
       " 'vect__stop_words': 'english'}"
      ]
     },
     "execution_count": 107,
     "metadata": {},
     "output_type": "execute_result"
    }
   ],
   "source": [
    "gs_clf.best_params_"
   ]
  },
  {
   "cell_type": "code",
   "execution_count": 108,
   "metadata": {},
   "outputs": [
    {
     "data": {
      "text/plain": [
       "0.5938553604401684"
      ]
     },
     "execution_count": 108,
     "metadata": {},
     "output_type": "execute_result"
    }
   ],
   "source": [
    "gs_clf.best_score_"
   ]
  },
  {
   "cell_type": "code",
   "execution_count": null,
   "metadata": {},
   "outputs": [],
   "source": []
  }
 ],
 "metadata": {
  "kernelspec": {
   "display_name": "Python 3",
   "language": "python",
   "name": "python3"
  },
  "language_info": {
   "codemirror_mode": {
    "name": "ipython",
    "version": 3
   },
   "file_extension": ".py",
   "mimetype": "text/x-python",
   "name": "python",
   "nbconvert_exporter": "python",
   "pygments_lexer": "ipython3",
   "version": "3.8.5"
  }
 },
 "nbformat": 4,
 "nbformat_minor": 4
}
